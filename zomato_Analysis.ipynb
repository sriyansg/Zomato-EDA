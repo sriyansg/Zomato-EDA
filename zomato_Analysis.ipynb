{
  "cells": [
    {
      "cell_type": "markdown",
      "id": "7c2fa4a9",
      "metadata": {
        "id": "7c2fa4a9"
      },
      "source": [
        "# Zomato Analysis"
      ]
    },
    {
      "cell_type": "markdown",
      "id": "e32b40ce",
      "metadata": {
        "id": "e32b40ce"
      },
      "source": [
        "## Importing libraries"
      ]
    },
    {
      "cell_type": "code",
      "execution_count": 1,
      "id": "bdc1cc71",
      "metadata": {
        "id": "bdc1cc71"
      },
      "outputs": [],
      "source": [
        "import numpy as np\n",
        "import pandas as pd\n",
        "import seaborn as sns\n",
        "from matplotlib import pyplot as plt\n",
        "%matplotlib inline\n",
        "import warnings\n",
        "warnings.filterwarnings('ignore')"
      ]
    },
    {
      "cell_type": "code",
      "execution_count": 2,
      "id": "623dfc8e",
      "metadata": {
        "colab": {
          "base_uri": "https://localhost:8080/",
          "height": 230
        },
        "id": "623dfc8e",
        "outputId": "44dc2317-e0eb-4694-9a2f-f8e250cb7040"
      },
      "outputs": [],
      "source": [
        "data=pd.read_csv(\"zomato.csv\")"
      ]
    },
    {
      "cell_type": "code",
      "execution_count": 3,
      "id": "74e3d25c",
      "metadata": {
        "id": "74e3d25c",
        "outputId": "5dabe7ab-4b75-4796-e355-7f2042800907"
      },
      "outputs": [
        {
          "data": {
            "text/html": [
              "<div>\n",
              "<style scoped>\n",
              "    .dataframe tbody tr th:only-of-type {\n",
              "        vertical-align: middle;\n",
              "    }\n",
              "\n",
              "    .dataframe tbody tr th {\n",
              "        vertical-align: top;\n",
              "    }\n",
              "\n",
              "    .dataframe thead th {\n",
              "        text-align: right;\n",
              "    }\n",
              "</style>\n",
              "<table border=\"1\" class=\"dataframe\">\n",
              "  <thead>\n",
              "    <tr style=\"text-align: right;\">\n",
              "      <th></th>\n",
              "      <th>url</th>\n",
              "      <th>address</th>\n",
              "      <th>name</th>\n",
              "      <th>online_order</th>\n",
              "      <th>book_table</th>\n",
              "      <th>rate</th>\n",
              "      <th>votes</th>\n",
              "      <th>phone</th>\n",
              "      <th>location</th>\n",
              "      <th>rest_type</th>\n",
              "      <th>dish_liked</th>\n",
              "      <th>cuisines</th>\n",
              "      <th>approx_cost(for two people)</th>\n",
              "      <th>reviews_list</th>\n",
              "      <th>menu_item</th>\n",
              "      <th>listed_in(type)</th>\n",
              "      <th>listed_in(city)</th>\n",
              "    </tr>\n",
              "  </thead>\n",
              "  <tbody>\n",
              "    <tr>\n",
              "      <th>0</th>\n",
              "      <td>https://www.zomato.com/bangalore/jalsa-banasha...</td>\n",
              "      <td>942, 21st Main Road, 2nd Stage, Banashankari, ...</td>\n",
              "      <td>Jalsa</td>\n",
              "      <td>Yes</td>\n",
              "      <td>Yes</td>\n",
              "      <td>4.1/5</td>\n",
              "      <td>775</td>\n",
              "      <td>080 42297555\\r\\n+91 9743772233</td>\n",
              "      <td>Banashankari</td>\n",
              "      <td>Casual Dining</td>\n",
              "      <td>Pasta, Lunch Buffet, Masala Papad, Paneer Laja...</td>\n",
              "      <td>North Indian, Mughlai, Chinese</td>\n",
              "      <td>800</td>\n",
              "      <td>[('Rated 4.0', 'RATED\\n  A beautiful place to ...</td>\n",
              "      <td>[]</td>\n",
              "      <td>Buffet</td>\n",
              "      <td>Banashankari</td>\n",
              "    </tr>\n",
              "    <tr>\n",
              "      <th>1</th>\n",
              "      <td>https://www.zomato.com/bangalore/spice-elephan...</td>\n",
              "      <td>2nd Floor, 80 Feet Road, Near Big Bazaar, 6th ...</td>\n",
              "      <td>Spice Elephant</td>\n",
              "      <td>Yes</td>\n",
              "      <td>No</td>\n",
              "      <td>4.1/5</td>\n",
              "      <td>787</td>\n",
              "      <td>080 41714161</td>\n",
              "      <td>Banashankari</td>\n",
              "      <td>Casual Dining</td>\n",
              "      <td>Momos, Lunch Buffet, Chocolate Nirvana, Thai G...</td>\n",
              "      <td>Chinese, North Indian, Thai</td>\n",
              "      <td>800</td>\n",
              "      <td>[('Rated 4.0', 'RATED\\n  Had been here for din...</td>\n",
              "      <td>[]</td>\n",
              "      <td>Buffet</td>\n",
              "      <td>Banashankari</td>\n",
              "    </tr>\n",
              "    <tr>\n",
              "      <th>2</th>\n",
              "      <td>https://www.zomato.com/SanchurroBangalore?cont...</td>\n",
              "      <td>1112, Next to KIMS Medical College, 17th Cross...</td>\n",
              "      <td>San Churro Cafe</td>\n",
              "      <td>Yes</td>\n",
              "      <td>No</td>\n",
              "      <td>3.8/5</td>\n",
              "      <td>918</td>\n",
              "      <td>+91 9663487993</td>\n",
              "      <td>Banashankari</td>\n",
              "      <td>Cafe, Casual Dining</td>\n",
              "      <td>Churros, Cannelloni, Minestrone Soup, Hot Choc...</td>\n",
              "      <td>Cafe, Mexican, Italian</td>\n",
              "      <td>800</td>\n",
              "      <td>[('Rated 3.0', \"RATED\\n  Ambience is not that ...</td>\n",
              "      <td>[]</td>\n",
              "      <td>Buffet</td>\n",
              "      <td>Banashankari</td>\n",
              "    </tr>\n",
              "    <tr>\n",
              "      <th>3</th>\n",
              "      <td>https://www.zomato.com/bangalore/addhuri-udupi...</td>\n",
              "      <td>1st Floor, Annakuteera, 3rd Stage, Banashankar...</td>\n",
              "      <td>Addhuri Udupi Bhojana</td>\n",
              "      <td>No</td>\n",
              "      <td>No</td>\n",
              "      <td>3.7/5</td>\n",
              "      <td>88</td>\n",
              "      <td>+91 9620009302</td>\n",
              "      <td>Banashankari</td>\n",
              "      <td>Quick Bites</td>\n",
              "      <td>Masala Dosa</td>\n",
              "      <td>South Indian, North Indian</td>\n",
              "      <td>300</td>\n",
              "      <td>[('Rated 4.0', \"RATED\\n  Great food and proper...</td>\n",
              "      <td>[]</td>\n",
              "      <td>Buffet</td>\n",
              "      <td>Banashankari</td>\n",
              "    </tr>\n",
              "    <tr>\n",
              "      <th>4</th>\n",
              "      <td>https://www.zomato.com/bangalore/grand-village...</td>\n",
              "      <td>10, 3rd Floor, Lakshmi Associates, Gandhi Baza...</td>\n",
              "      <td>Grand Village</td>\n",
              "      <td>No</td>\n",
              "      <td>No</td>\n",
              "      <td>3.8/5</td>\n",
              "      <td>166</td>\n",
              "      <td>+91 8026612447\\r\\n+91 9901210005</td>\n",
              "      <td>Basavanagudi</td>\n",
              "      <td>Casual Dining</td>\n",
              "      <td>Panipuri, Gol Gappe</td>\n",
              "      <td>North Indian, Rajasthani</td>\n",
              "      <td>600</td>\n",
              "      <td>[('Rated 4.0', 'RATED\\n  Very good restaurant ...</td>\n",
              "      <td>[]</td>\n",
              "      <td>Buffet</td>\n",
              "      <td>Banashankari</td>\n",
              "    </tr>\n",
              "  </tbody>\n",
              "</table>\n",
              "</div>"
            ],
            "text/plain": [
              "                                                 url  \\\n",
              "0  https://www.zomato.com/bangalore/jalsa-banasha...   \n",
              "1  https://www.zomato.com/bangalore/spice-elephan...   \n",
              "2  https://www.zomato.com/SanchurroBangalore?cont...   \n",
              "3  https://www.zomato.com/bangalore/addhuri-udupi...   \n",
              "4  https://www.zomato.com/bangalore/grand-village...   \n",
              "\n",
              "                                             address                   name  \\\n",
              "0  942, 21st Main Road, 2nd Stage, Banashankari, ...                  Jalsa   \n",
              "1  2nd Floor, 80 Feet Road, Near Big Bazaar, 6th ...         Spice Elephant   \n",
              "2  1112, Next to KIMS Medical College, 17th Cross...        San Churro Cafe   \n",
              "3  1st Floor, Annakuteera, 3rd Stage, Banashankar...  Addhuri Udupi Bhojana   \n",
              "4  10, 3rd Floor, Lakshmi Associates, Gandhi Baza...          Grand Village   \n",
              "\n",
              "  online_order book_table   rate  votes                             phone  \\\n",
              "0          Yes        Yes  4.1/5    775    080 42297555\\r\\n+91 9743772233   \n",
              "1          Yes         No  4.1/5    787                      080 41714161   \n",
              "2          Yes         No  3.8/5    918                    +91 9663487993   \n",
              "3           No         No  3.7/5     88                    +91 9620009302   \n",
              "4           No         No  3.8/5    166  +91 8026612447\\r\\n+91 9901210005   \n",
              "\n",
              "       location            rest_type  \\\n",
              "0  Banashankari        Casual Dining   \n",
              "1  Banashankari        Casual Dining   \n",
              "2  Banashankari  Cafe, Casual Dining   \n",
              "3  Banashankari          Quick Bites   \n",
              "4  Basavanagudi        Casual Dining   \n",
              "\n",
              "                                          dish_liked  \\\n",
              "0  Pasta, Lunch Buffet, Masala Papad, Paneer Laja...   \n",
              "1  Momos, Lunch Buffet, Chocolate Nirvana, Thai G...   \n",
              "2  Churros, Cannelloni, Minestrone Soup, Hot Choc...   \n",
              "3                                        Masala Dosa   \n",
              "4                                Panipuri, Gol Gappe   \n",
              "\n",
              "                         cuisines approx_cost(for two people)  \\\n",
              "0  North Indian, Mughlai, Chinese                         800   \n",
              "1     Chinese, North Indian, Thai                         800   \n",
              "2          Cafe, Mexican, Italian                         800   \n",
              "3      South Indian, North Indian                         300   \n",
              "4        North Indian, Rajasthani                         600   \n",
              "\n",
              "                                        reviews_list menu_item  \\\n",
              "0  [('Rated 4.0', 'RATED\\n  A beautiful place to ...        []   \n",
              "1  [('Rated 4.0', 'RATED\\n  Had been here for din...        []   \n",
              "2  [('Rated 3.0', \"RATED\\n  Ambience is not that ...        []   \n",
              "3  [('Rated 4.0', \"RATED\\n  Great food and proper...        []   \n",
              "4  [('Rated 4.0', 'RATED\\n  Very good restaurant ...        []   \n",
              "\n",
              "  listed_in(type) listed_in(city)  \n",
              "0          Buffet    Banashankari  \n",
              "1          Buffet    Banashankari  \n",
              "2          Buffet    Banashankari  \n",
              "3          Buffet    Banashankari  \n",
              "4          Buffet    Banashankari  "
            ]
          },
          "execution_count": 3,
          "metadata": {},
          "output_type": "execute_result"
        }
      ],
      "source": [
        "data.head()"
      ]
    },
    {
      "cell_type": "code",
      "execution_count": 4,
      "id": "78c4207d",
      "metadata": {
        "id": "78c4207d",
        "outputId": "afb901ed-b2fe-439d-d3bf-52299c38411a"
      },
      "outputs": [
        {
          "data": {
            "text/plain": [
              "Index(['url', 'address', 'name', 'online_order', 'book_table', 'rate', 'votes',\n",
              "       'phone', 'location', 'rest_type', 'dish_liked', 'cuisines',\n",
              "       'approx_cost(for two people)', 'reviews_list', 'menu_item',\n",
              "       'listed_in(type)', 'listed_in(city)'],\n",
              "      dtype='object')"
            ]
          },
          "execution_count": 4,
          "metadata": {},
          "output_type": "execute_result"
        }
      ],
      "source": [
        "data.columns"
      ]
    },
    {
      "cell_type": "code",
      "execution_count": 5,
      "id": "f62fe1c3",
      "metadata": {},
      "outputs": [
        {
          "name": "stdout",
          "output_type": "stream",
          "text": [
            "['Banashankari' 'Bannerghatta Road' 'Basavanagudi' 'Bellandur'\n",
            " 'Brigade Road' 'Brookefield' 'BTM' 'Church Street' 'Electronic City'\n",
            " 'Frazer Town' 'HSR' 'Indiranagar' 'Jayanagar' 'JP Nagar' 'Kalyan Nagar'\n",
            " 'Kammanahalli' 'Koramangala 4th Block' 'Koramangala 5th Block'\n",
            " 'Koramangala 6th Block' 'Koramangala 7th Block' 'Lavelle Road'\n",
            " 'Malleshwaram' 'Marathahalli' 'MG Road' 'New BEL Road' 'Old Airport Road'\n",
            " 'Rajajinagar' 'Residency Road' 'Sarjapur Road' 'Whitefield']\n"
          ]
        }
      ],
      "source": [
        "print(data['listed_in(city)'].unique())"
      ]
    },
    {
      "cell_type": "code",
      "execution_count": 6,
      "id": "53959935",
      "metadata": {
        "id": "53959935"
      },
      "outputs": [],
      "source": [
        "data = data.drop(['url', 'menu_item', 'address', 'phone','listed_in(type)', 'listed_in(city)'], axis=1)\n"
      ]
    },
    {
      "cell_type": "code",
      "execution_count": 7,
      "id": "aa1cf61f",
      "metadata": {},
      "outputs": [
        {
          "data": {
            "text/plain": [
              "(51717, 11)"
            ]
          },
          "execution_count": 7,
          "metadata": {},
          "output_type": "execute_result"
        }
      ],
      "source": [
        "data.shape"
      ]
    },
    {
      "cell_type": "code",
      "execution_count": 8,
      "id": "ffa89c06",
      "metadata": {
        "id": "ffa89c06",
        "outputId": "4462e335-fb99-40e1-fa88-60dfbc517ed5"
      },
      "outputs": [
        {
          "data": {
            "text/html": [
              "<div>\n",
              "<style scoped>\n",
              "    .dataframe tbody tr th:only-of-type {\n",
              "        vertical-align: middle;\n",
              "    }\n",
              "\n",
              "    .dataframe tbody tr th {\n",
              "        vertical-align: top;\n",
              "    }\n",
              "\n",
              "    .dataframe thead th {\n",
              "        text-align: right;\n",
              "    }\n",
              "</style>\n",
              "<table border=\"1\" class=\"dataframe\">\n",
              "  <thead>\n",
              "    <tr style=\"text-align: right;\">\n",
              "      <th></th>\n",
              "      <th>name</th>\n",
              "      <th>online_order</th>\n",
              "      <th>book_table</th>\n",
              "      <th>rate</th>\n",
              "      <th>votes</th>\n",
              "      <th>location</th>\n",
              "      <th>rest_type</th>\n",
              "      <th>dish_liked</th>\n",
              "      <th>cuisines</th>\n",
              "      <th>approx_cost(for two people)</th>\n",
              "      <th>reviews_list</th>\n",
              "    </tr>\n",
              "  </thead>\n",
              "  <tbody>\n",
              "    <tr>\n",
              "      <th>0</th>\n",
              "      <td>Jalsa</td>\n",
              "      <td>Yes</td>\n",
              "      <td>Yes</td>\n",
              "      <td>4.1/5</td>\n",
              "      <td>775</td>\n",
              "      <td>Banashankari</td>\n",
              "      <td>Casual Dining</td>\n",
              "      <td>Pasta, Lunch Buffet, Masala Papad, Paneer Laja...</td>\n",
              "      <td>North Indian, Mughlai, Chinese</td>\n",
              "      <td>800</td>\n",
              "      <td>[('Rated 4.0', 'RATED\\n  A beautiful place to ...</td>\n",
              "    </tr>\n",
              "    <tr>\n",
              "      <th>1</th>\n",
              "      <td>Spice Elephant</td>\n",
              "      <td>Yes</td>\n",
              "      <td>No</td>\n",
              "      <td>4.1/5</td>\n",
              "      <td>787</td>\n",
              "      <td>Banashankari</td>\n",
              "      <td>Casual Dining</td>\n",
              "      <td>Momos, Lunch Buffet, Chocolate Nirvana, Thai G...</td>\n",
              "      <td>Chinese, North Indian, Thai</td>\n",
              "      <td>800</td>\n",
              "      <td>[('Rated 4.0', 'RATED\\n  Had been here for din...</td>\n",
              "    </tr>\n",
              "    <tr>\n",
              "      <th>2</th>\n",
              "      <td>San Churro Cafe</td>\n",
              "      <td>Yes</td>\n",
              "      <td>No</td>\n",
              "      <td>3.8/5</td>\n",
              "      <td>918</td>\n",
              "      <td>Banashankari</td>\n",
              "      <td>Cafe, Casual Dining</td>\n",
              "      <td>Churros, Cannelloni, Minestrone Soup, Hot Choc...</td>\n",
              "      <td>Cafe, Mexican, Italian</td>\n",
              "      <td>800</td>\n",
              "      <td>[('Rated 3.0', \"RATED\\n  Ambience is not that ...</td>\n",
              "    </tr>\n",
              "    <tr>\n",
              "      <th>3</th>\n",
              "      <td>Addhuri Udupi Bhojana</td>\n",
              "      <td>No</td>\n",
              "      <td>No</td>\n",
              "      <td>3.7/5</td>\n",
              "      <td>88</td>\n",
              "      <td>Banashankari</td>\n",
              "      <td>Quick Bites</td>\n",
              "      <td>Masala Dosa</td>\n",
              "      <td>South Indian, North Indian</td>\n",
              "      <td>300</td>\n",
              "      <td>[('Rated 4.0', \"RATED\\n  Great food and proper...</td>\n",
              "    </tr>\n",
              "    <tr>\n",
              "      <th>4</th>\n",
              "      <td>Grand Village</td>\n",
              "      <td>No</td>\n",
              "      <td>No</td>\n",
              "      <td>3.8/5</td>\n",
              "      <td>166</td>\n",
              "      <td>Basavanagudi</td>\n",
              "      <td>Casual Dining</td>\n",
              "      <td>Panipuri, Gol Gappe</td>\n",
              "      <td>North Indian, Rajasthani</td>\n",
              "      <td>600</td>\n",
              "      <td>[('Rated 4.0', 'RATED\\n  Very good restaurant ...</td>\n",
              "    </tr>\n",
              "  </tbody>\n",
              "</table>\n",
              "</div>"
            ],
            "text/plain": [
              "                    name online_order book_table   rate  votes      location  \\\n",
              "0                  Jalsa          Yes        Yes  4.1/5    775  Banashankari   \n",
              "1         Spice Elephant          Yes         No  4.1/5    787  Banashankari   \n",
              "2        San Churro Cafe          Yes         No  3.8/5    918  Banashankari   \n",
              "3  Addhuri Udupi Bhojana           No         No  3.7/5     88  Banashankari   \n",
              "4          Grand Village           No         No  3.8/5    166  Basavanagudi   \n",
              "\n",
              "             rest_type                                         dish_liked  \\\n",
              "0        Casual Dining  Pasta, Lunch Buffet, Masala Papad, Paneer Laja...   \n",
              "1        Casual Dining  Momos, Lunch Buffet, Chocolate Nirvana, Thai G...   \n",
              "2  Cafe, Casual Dining  Churros, Cannelloni, Minestrone Soup, Hot Choc...   \n",
              "3          Quick Bites                                        Masala Dosa   \n",
              "4        Casual Dining                                Panipuri, Gol Gappe   \n",
              "\n",
              "                         cuisines approx_cost(for two people)  \\\n",
              "0  North Indian, Mughlai, Chinese                         800   \n",
              "1     Chinese, North Indian, Thai                         800   \n",
              "2          Cafe, Mexican, Italian                         800   \n",
              "3      South Indian, North Indian                         300   \n",
              "4        North Indian, Rajasthani                         600   \n",
              "\n",
              "                                        reviews_list  \n",
              "0  [('Rated 4.0', 'RATED\\n  A beautiful place to ...  \n",
              "1  [('Rated 4.0', 'RATED\\n  Had been here for din...  \n",
              "2  [('Rated 3.0', \"RATED\\n  Ambience is not that ...  \n",
              "3  [('Rated 4.0', \"RATED\\n  Great food and proper...  \n",
              "4  [('Rated 4.0', 'RATED\\n  Very good restaurant ...  "
            ]
          },
          "execution_count": 8,
          "metadata": {},
          "output_type": "execute_result"
        }
      ],
      "source": [
        "data.head()"
      ]
    },
    {
      "cell_type": "code",
      "execution_count": 9,
      "id": "aac73dd0",
      "metadata": {
        "id": "aac73dd0",
        "outputId": "b83a7766-b91a-492d-ef0e-4128e046287f"
      },
      "outputs": [
        {
          "data": {
            "text/plain": [
              "name                               0\n",
              "online_order                       0\n",
              "book_table                         0\n",
              "rate                            7775\n",
              "votes                              0\n",
              "location                          21\n",
              "rest_type                        227\n",
              "dish_liked                     28078\n",
              "cuisines                          45\n",
              "approx_cost(for two people)      346\n",
              "reviews_list                       0\n",
              "dtype: int64"
            ]
          },
          "execution_count": 9,
          "metadata": {},
          "output_type": "execute_result"
        }
      ],
      "source": [
        "data.isna().sum()"
      ]
    },
    {
      "cell_type": "markdown",
      "id": "868e90c6",
      "metadata": {
        "id": "868e90c6"
      },
      "source": [
        "## Cleaning for the Required Data"
      ]
    },
    {
      "cell_type": "code",
      "execution_count": 10,
      "id": "ff4bb119",
      "metadata": {
        "id": "ff4bb119",
        "outputId": "d4e235a3-5162-41a0-f509-574ccbcb5144"
      },
      "outputs": [
        {
          "data": {
            "text/plain": [
              "['rate',\n",
              " 'location',\n",
              " 'rest_type',\n",
              " 'dish_liked',\n",
              " 'cuisines',\n",
              " 'approx_cost(for two people)']"
            ]
          },
          "execution_count": 10,
          "metadata": {},
          "output_type": "execute_result"
        }
      ],
      "source": [
        "miss_vals = [i for i in data.columns if data[i].isnull().sum() > 0]\n",
        "miss_vals \n",
        "# These have some null values"
      ]
    },
    {
      "cell_type": "code",
      "execution_count": 11,
      "id": "7ba772ae",
      "metadata": {
        "id": "7ba772ae",
        "outputId": "e158d882-38dd-4325-a67a-e12102e5c49c"
      },
      "outputs": [
        {
          "name": "stdout",
          "output_type": "stream",
          "text": [
            "rate has 15.0337% null values\n",
            "location has 0.0406% null values\n",
            "rest_type has 0.4389% null values\n",
            "dish_liked has 54.2916% null values\n",
            "cuisines has 0.087% null values\n",
            "approx_cost(for two people) has 0.669% null values\n"
          ]
        }
      ],
      "source": [
        "# Checking the percentage of null values\n",
        "for i in miss_vals:\n",
        "    print(f\"{i} has {np.round((data[i].isnull().sum()/len(data[i])*100),4)}% null values\")"
      ]
    },
    {
      "cell_type": "code",
      "execution_count": 12,
      "id": "49494a9d",
      "metadata": {
        "id": "49494a9d",
        "outputId": "7956d7ff-1f3b-4793-c2bc-aacabd1f47db"
      },
      "outputs": [
        {
          "data": {
            "text/plain": [
              "array(['4.1/5', '3.8/5', '3.7/5', '3.6/5', '4.6/5', '4.0/5', '4.2/5',\n",
              "       '3.9/5', '3.1/5', '3.0/5', '3.2/5', '3.3/5', '2.8/5', '4.4/5',\n",
              "       '4.3/5', 'NEW', '2.9/5', '3.5/5', nan, '2.6/5', '3.8 /5', '3.4/5',\n",
              "       '4.5/5', '2.5/5', '2.7/5', '4.7/5', '2.4/5', '2.2/5', '2.3/5',\n",
              "       '3.4 /5', '-', '3.6 /5', '4.8/5', '3.9 /5', '4.2 /5', '4.0 /5',\n",
              "       '4.1 /5', '3.7 /5', '3.1 /5', '2.9 /5', '3.3 /5', '2.8 /5',\n",
              "       '3.5 /5', '2.7 /5', '2.5 /5', '3.2 /5', '2.6 /5', '4.5 /5',\n",
              "       '4.3 /5', '4.4 /5', '4.9/5', '2.1/5', '2.0/5', '1.8/5', '4.6 /5',\n",
              "       '4.9 /5', '3.0 /5', '4.8 /5', '2.3 /5', '4.7 /5', '2.4 /5',\n",
              "       '2.1 /5', '2.2 /5', '2.0 /5', '1.8 /5'], dtype=object)"
            ]
          },
          "execution_count": 12,
          "metadata": {},
          "output_type": "execute_result"
        }
      ],
      "source": [
        "data.rate.unique()"
      ]
    },
    {
      "cell_type": "code",
      "execution_count": 13,
      "id": "8e5a675e",
      "metadata": {
        "id": "8e5a675e"
      },
      "outputs": [],
      "source": [
        "data.dropna(subset=['rate'],axis=0,inplace=True)"
      ]
    },
    {
      "cell_type": "markdown",
      "id": "d27744b6",
      "metadata": {},
      "source": [
        "to remove /5"
      ]
    },
    {
      "cell_type": "code",
      "execution_count": 14,
      "id": "b1f96422",
      "metadata": {
        "id": "b1f96422"
      },
      "outputs": [],
      "source": [
        "def split(x):\n",
        "    return x.split('/')[0].strip()"
      ]
    },
    {
      "cell_type": "code",
      "execution_count": 15,
      "id": "3d90187f",
      "metadata": {
        "id": "3d90187f"
      },
      "outputs": [],
      "source": [
        "data['rate'] = data['rate'].apply(split)"
      ]
    },
    {
      "cell_type": "code",
      "execution_count": 16,
      "id": "498248d8",
      "metadata": {
        "id": "498248d8",
        "outputId": "ed9f8d85-c871-4196-ec4f-14f5909082c8"
      },
      "outputs": [
        {
          "data": {
            "text/plain": [
              "0        4.1\n",
              "1        4.1\n",
              "2        3.8\n",
              "3        3.7\n",
              "4        3.8\n",
              "        ... \n",
              "51709    3.7\n",
              "51711    2.5\n",
              "51712    3.6\n",
              "51715    4.3\n",
              "51716    3.4\n",
              "Name: rate, Length: 43942, dtype: object"
            ]
          },
          "execution_count": 16,
          "metadata": {},
          "output_type": "execute_result"
        }
      ],
      "source": [
        "data['rate']"
      ]
    },
    {
      "cell_type": "code",
      "execution_count": 17,
      "id": "83c0d6d1",
      "metadata": {
        "id": "83c0d6d1",
        "outputId": "b96a2898-925a-40c7-a8af-2c3cb0e8a12a"
      },
      "outputs": [
        {
          "data": {
            "text/plain": [
              "array(['4.1', '3.8', '3.7', '3.6', '4.6', '4.0', '4.2', '3.9', '3.1',\n",
              "       '3.0', '3.2', '3.3', '2.8', '4.4', '4.3', 'NEW', '2.9', '3.5',\n",
              "       '2.6', '3.4', '4.5', '2.5', '2.7', '4.7', '2.4', '2.2', '2.3', '-',\n",
              "       '4.8', '4.9', '2.1', '2.0', '1.8'], dtype=object)"
            ]
          },
          "execution_count": 17,
          "metadata": {},
          "output_type": "execute_result"
        }
      ],
      "source": [
        "data.rate.unique()"
      ]
    },
    {
      "cell_type": "code",
      "execution_count": 18,
      "id": "f2a1f6a7",
      "metadata": {
        "id": "f2a1f6a7"
      },
      "outputs": [],
      "source": [
        "data['rate'].replace(['NEW','-'],0,inplace=True)"
      ]
    },
    {
      "cell_type": "code",
      "execution_count": 19,
      "id": "ae49652a",
      "metadata": {
        "id": "ae49652a",
        "outputId": "fad82739-ff60-4486-a7c7-d3143333a328"
      },
      "outputs": [
        {
          "name": "stdout",
          "output_type": "stream",
          "text": [
            "<class 'pandas.core.frame.DataFrame'>\n",
            "Int64Index: 43942 entries, 0 to 51716\n",
            "Data columns (total 11 columns):\n",
            " #   Column                       Non-Null Count  Dtype \n",
            "---  ------                       --------------  ----- \n",
            " 0   name                         43942 non-null  object\n",
            " 1   online_order                 43942 non-null  object\n",
            " 2   book_table                   43942 non-null  object\n",
            " 3   rate                         43942 non-null  object\n",
            " 4   votes                        43942 non-null  int64 \n",
            " 5   location                     43942 non-null  object\n",
            " 6   rest_type                    43791 non-null  object\n",
            " 7   dish_liked                   23609 non-null  object\n",
            " 8   cuisines                     43931 non-null  object\n",
            " 9   approx_cost(for two people)  43690 non-null  object\n",
            " 10  reviews_list                 43942 non-null  object\n",
            "dtypes: int64(1), object(10)\n",
            "memory usage: 4.0+ MB\n"
          ]
        }
      ],
      "source": [
        "data.info()"
      ]
    },
    {
      "cell_type": "markdown",
      "id": "aa5d4e72",
      "metadata": {},
      "source": [
        "rate is an object, it wont be plotted, hence converting it to float"
      ]
    },
    {
      "cell_type": "code",
      "execution_count": 20,
      "id": "7842c175",
      "metadata": {
        "id": "7842c175"
      },
      "outputs": [],
      "source": [
        "data['rate'] = data['rate'].astype(float)"
      ]
    },
    {
      "cell_type": "code",
      "execution_count": 21,
      "id": "c311c8f6",
      "metadata": {
        "id": "c311c8f6",
        "outputId": "92886719-d2be-47e5-973a-eaed58b728f9"
      },
      "outputs": [
        {
          "name": "stdout",
          "output_type": "stream",
          "text": [
            "<class 'pandas.core.frame.DataFrame'>\n",
            "Int64Index: 43942 entries, 0 to 51716\n",
            "Data columns (total 11 columns):\n",
            " #   Column                       Non-Null Count  Dtype  \n",
            "---  ------                       --------------  -----  \n",
            " 0   name                         43942 non-null  object \n",
            " 1   online_order                 43942 non-null  object \n",
            " 2   book_table                   43942 non-null  object \n",
            " 3   rate                         43942 non-null  float64\n",
            " 4   votes                        43942 non-null  int64  \n",
            " 5   location                     43942 non-null  object \n",
            " 6   rest_type                    43791 non-null  object \n",
            " 7   dish_liked                   23609 non-null  object \n",
            " 8   cuisines                     43931 non-null  object \n",
            " 9   approx_cost(for two people)  43690 non-null  object \n",
            " 10  reviews_list                 43942 non-null  object \n",
            "dtypes: float64(1), int64(1), object(9)\n",
            "memory usage: 4.0+ MB\n"
          ]
        }
      ],
      "source": [
        "data.info()"
      ]
    },
    {
      "cell_type": "markdown",
      "id": "b9e4a826",
      "metadata": {
        "id": "b9e4a826"
      },
      "source": [
        "## Average Rating of each restaurant"
      ]
    },
    {
      "cell_type": "code",
      "execution_count": 22,
      "id": "53229adf",
      "metadata": {
        "id": "53229adf",
        "outputId": "9d7b6d0d-49e4-459d-9806-5fc0adb8180f"
      },
      "outputs": [
        {
          "data": {
            "text/html": [
              "<div>\n",
              "<style scoped>\n",
              "    .dataframe tbody tr th:only-of-type {\n",
              "        vertical-align: middle;\n",
              "    }\n",
              "\n",
              "    .dataframe tbody tr th {\n",
              "        vertical-align: top;\n",
              "    }\n",
              "\n",
              "    .dataframe thead th {\n",
              "        text-align: right;\n",
              "    }\n",
              "</style>\n",
              "<table border=\"1\" class=\"dataframe\">\n",
              "  <thead>\n",
              "    <tr style=\"text-align: right;\">\n",
              "      <th></th>\n",
              "      <th>rate</th>\n",
              "    </tr>\n",
              "    <tr>\n",
              "      <th>name</th>\n",
              "      <th></th>\n",
              "    </tr>\n",
              "  </thead>\n",
              "  <tbody>\n",
              "    <tr>\n",
              "      <th>#FeelTheROLL</th>\n",
              "      <td>3.400000</td>\n",
              "    </tr>\n",
              "    <tr>\n",
              "      <th>#L-81 Cafe</th>\n",
              "      <td>3.900000</td>\n",
              "    </tr>\n",
              "    <tr>\n",
              "      <th>#refuel</th>\n",
              "      <td>3.700000</td>\n",
              "    </tr>\n",
              "    <tr>\n",
              "      <th>1000 B.C</th>\n",
              "      <td>3.200000</td>\n",
              "    </tr>\n",
              "    <tr>\n",
              "      <th>100ÃÂÃÂÃÂÃÂÃÂÃÂÃÂÃÂ°C</th>\n",
              "      <td>3.700000</td>\n",
              "    </tr>\n",
              "    <tr>\n",
              "      <th>...</th>\n",
              "      <td>...</td>\n",
              "    </tr>\n",
              "    <tr>\n",
              "      <th>i-Bar - The Park Bangalore</th>\n",
              "      <td>3.800000</td>\n",
              "    </tr>\n",
              "    <tr>\n",
              "      <th>iFruit Live Ice Creams</th>\n",
              "      <td>3.400000</td>\n",
              "    </tr>\n",
              "    <tr>\n",
              "      <th>iSpice Resto Cafe</th>\n",
              "      <td>3.700000</td>\n",
              "    </tr>\n",
              "    <tr>\n",
              "      <th>nu.tree</th>\n",
              "      <td>4.314286</td>\n",
              "    </tr>\n",
              "    <tr>\n",
              "      <th>re:cess - Hilton Bangalore Embassy GolfLinks</th>\n",
              "      <td>4.100000</td>\n",
              "    </tr>\n",
              "  </tbody>\n",
              "</table>\n",
              "<p>7162 rows × 1 columns</p>\n",
              "</div>"
            ],
            "text/plain": [
              "                                                  rate\n",
              "name                                                  \n",
              "#FeelTheROLL                                  3.400000\n",
              "#L-81 Cafe                                    3.900000\n",
              "#refuel                                       3.700000\n",
              "1000 B.C                                      3.200000\n",
              "100ÃÂÃÂÃÂÃÂÃÂÃÂÃÂÃÂ°C          3.700000\n",
              "...                                                ...\n",
              "i-Bar - The Park Bangalore                    3.800000\n",
              "iFruit Live Ice Creams                        3.400000\n",
              "iSpice Resto Cafe                             3.700000\n",
              "nu.tree                                       4.314286\n",
              "re:cess - Hilton Bangalore Embassy GolfLinks  4.100000\n",
              "\n",
              "[7162 rows x 1 columns]"
            ]
          },
          "execution_count": 22,
          "metadata": {},
          "output_type": "execute_result"
        }
      ],
      "source": [
        "rating = pd.pivot_table(data,index='name',values='rate')\n",
        "rating"
      ]
    },
    {
      "cell_type": "code",
      "execution_count": 23,
      "id": "6ac9ddae",
      "metadata": {
        "id": "6ac9ddae",
        "outputId": "5cf7399d-d8ba-433a-d8d3-4b2abb3b6daa"
      },
      "outputs": [
        {
          "name": "stdout",
          "output_type": "stream",
          "text": [
            "                                                        rate\n",
            "name                                                        \n",
            "Asia Kitchen By Mainland China                      4.900000\n",
            "Byg Brewski Brewing Company                         4.900000\n",
            "SantÃÂÃÂÃÂÃÂÃÂÃÂÃÂÃÂÃÂÃÂÃÂ...  4.900000\n",
            "Punjab Grill                                        4.871429\n",
            "Belgian Waffle Factory                              4.844828\n",
            "O.G. Variar & Sons                                  4.800000\n",
            "Flechazo                                            4.800000\n",
            "The Pizza Bakery                                    4.800000\n",
            "AB's - Absolute Barbecues                           4.789474\n",
            "Barbecue by Punjab Grill                            4.750000\n",
            "CTR                                                 4.750000\n",
            "The Black Pearl                                     4.727778\n",
            "House Of Commons                                    4.723810\n",
            "The Big Barbeque                                    4.700000\n",
            "ECHOES Koramangala                                  4.700000\n"
          ]
        }
      ],
      "source": [
        "rating=rating.sort_values(['rate'],ascending=False)\n",
        "print(rating[0:15])"
      ]
    },
    {
      "cell_type": "markdown",
      "id": "1dbecc18",
      "metadata": {
        "id": "1dbecc18"
      },
      "source": [
        "We can see that the top resturants have the highest number of average ratings"
      ]
    },
    {
      "cell_type": "code",
      "execution_count": 24,
      "id": "b177f975",
      "metadata": {},
      "outputs": [
        {
          "data": {
            "image/png": "[encoded data removed]",
            "text/plain": [
              "<Figure size 1500x800 with 1 Axes>"
            ]
          },
          "metadata": {},
          "output_type": "display_data"
        }
      ],
      "source": [
        "plt.figure(figsize=(15, 8))\n",
        "sns.barplot(x='rate', y=rating.head(15).index, data=rating.head(15))\n",
        "plt.xlabel('Average Rating')\n",
        "plt.ylabel('Restaurant')\n",
        "plt.title('Top 15 Restaurants by Average Rating')\n",
        "plt.show()"
      ]
    },
    {
      "cell_type": "markdown",
      "id": "ed1e1c7c",
      "metadata": {
        "id": "ed1e1c7c"
      },
      "source": [
        "## distribution of ratings"
      ]
    },
    {
      "cell_type": "code",
      "execution_count": 25,
      "id": "e2317bce",
      "metadata": {
        "id": "e2317bce",
        "outputId": "a4093458-15ee-48a0-b170-a2b6a62f49ae"
      },
      "outputs": [
        {
          "data": {
            "image/png": "[encoded data removed]",
            "text/plain": [
              "<Figure size 640x480 with 1 Axes>"
            ]
          },
          "metadata": {},
          "output_type": "display_data"
        }
      ],
      "source": [
        "sns.set_style('whitegrid')\n",
        "sns.distplot(data['rate'])\n",
        "\n",
        "plt.show()"
      ]
    },
    {
      "cell_type": "markdown",
      "id": "b88df50d",
      "metadata": {
        "id": "b88df50d"
      },
      "source": [
        "This is not a normal distibution\n",
        "we can see a spike in 0s \n",
        "i.e the new resturants"
      ]
    },
    {
      "cell_type": "markdown",
      "id": "22795320",
      "metadata": {
        "id": "22795320"
      },
      "source": [
        "## top restaurant chains"
      ]
    },
    {
      "cell_type": "code",
      "execution_count": 26,
      "id": "e6cc67f3",
      "metadata": {
        "id": "e6cc67f3",
        "outputId": "beddaf22-c308-4474-d550-93f5b7ef20af"
      },
      "outputs": [
        {
          "data": {
            "text/plain": [
              "Cafe Coffee Day               89\n",
              "Onesta                        85\n",
              "Empire Restaurant             71\n",
              "Just Bake                     68\n",
              "Five Star Chicken             68\n",
              "                              ..\n",
              "SV Food Garden                 1\n",
              "Ginger restaurant              1\n",
              "Darjeeling Hot Momos           1\n",
              "Sri Annapoorna Andhra Mess     1\n",
              "SeeYa Restaurant               1\n",
              "Name: name, Length: 7162, dtype: int64"
            ]
          },
          "execution_count": 26,
          "metadata": {},
          "output_type": "execute_result"
        }
      ],
      "source": [
        "data['name'].value_counts()"
      ]
    },
    {
      "cell_type": "code",
      "execution_count": 27,
      "id": "1c2e1832",
      "metadata": {
        "id": "1c2e1832",
        "outputId": "ca4eec24-0722-4cfb-debb-145e19507b6e"
      },
      "outputs": [
        {
          "data": {
            "image/png": "[encoded data removed]",
            "text/plain": [
              "<Figure size 1100x770 with 1 Axes>"
            ]
          },
          "metadata": {},
          "output_type": "display_data"
        }
      ],
      "source": [
        "plt.figure(figsize=(10,7),dpi=110)\n",
        "\n",
        "chains = data['name'].value_counts()[0:15]\n",
        "\n",
        "sns.barplot(x=chains.values, y=chains.index, palette='deep')\n",
        "plt.xlabel(\"no. of outlets\")\n",
        "\n",
        "plt.show()"
      ]
    },
    {
      "cell_type": "markdown",
      "id": "9f5abfb4",
      "metadata": {
        "id": "9f5abfb4"
      },
      "source": [
        "These are the top resturant chains...'cafe coffee day' being at the top\n"
      ]
    },
    {
      "cell_type": "markdown",
      "id": "d0daf927",
      "metadata": {
        "id": "d0daf927"
      },
      "source": [
        "## how many restaurants don't accept online orders"
      ]
    },
    {
      "cell_type": "code",
      "execution_count": 28,
      "id": "16997a3a",
      "metadata": {
        "id": "16997a3a",
        "outputId": "742f4455-4263-468b-824b-072ba13df06d"
      },
      "outputs": [
        {
          "data": {
            "image/png": "[encoded data removed]",
            "text/plain": [
              "<Figure size 640x480 with 1 Axes>"
            ]
          },
          "metadata": {},
          "output_type": "display_data"
        }
      ],
      "source": [
        "x = data.online_order.value_counts()\n",
        "labels = ['accepted','not-accepted']\n",
        "plt.pie(x,labels=labels,explode=[0.0,0.1],autopct='%1.1f%%')\n",
        "\n",
        "plt.show()"
      ]
    },
    {
      "cell_type": "markdown",
      "id": "c6cd9428",
      "metadata": {
        "id": "c6cd9428"
      },
      "source": [
        "we see that around 64.4% of resturants accept online orders"
      ]
    },
    {
      "cell_type": "markdown",
      "id": "2e14beb1",
      "metadata": {
        "id": "2e14beb1"
      },
      "source": [
        "## How many resturants had TABLE BOOKINGS?"
      ]
    },
    {
      "cell_type": "code",
      "execution_count": 29,
      "id": "827afc32",
      "metadata": {
        "id": "827afc32",
        "outputId": "fd3d398f-a911-439a-f251-9c1d466d9897"
      },
      "outputs": [
        {
          "data": {
            "image/png": "[encoded data removed]",
            "text/plain": [
              "<Figure size 640x480 with 1 Axes>"
            ]
          },
          "metadata": {},
          "output_type": "display_data"
        }
      ],
      "source": [
        "x = data.book_table.value_counts()\n",
        "labels = ['accepted','not-accepted']\n",
        "plt.pie(x,labels=labels,explode=[0.0,0.1],autopct='%1.1f%%')\n",
        "\n",
        "plt.show()"
      ]
    },
    {
      "cell_type": "markdown",
      "id": "744f395e",
      "metadata": {
        "id": "744f395e"
      },
      "source": [
        "we observe that around 85,4% resturants have table bookings"
      ]
    },
    {
      "cell_type": "markdown",
      "id": "a83d9164",
      "metadata": {
        "id": "a83d9164"
      },
      "source": [
        "## Analysis on type of restaurants"
      ]
    },
    {
      "cell_type": "code",
      "execution_count": 30,
      "id": "83014332",
      "metadata": {
        "id": "83014332",
        "outputId": "5a40e1a8-3db1-4188-c1f1-4c1cdef3b4fb"
      },
      "outputs": [
        {
          "data": {
            "text/html": [
              "<div>\n",
              "<style scoped>\n",
              "    .dataframe tbody tr th:only-of-type {\n",
              "        vertical-align: middle;\n",
              "    }\n",
              "\n",
              "    .dataframe tbody tr th {\n",
              "        vertical-align: top;\n",
              "    }\n",
              "\n",
              "    .dataframe thead th {\n",
              "        text-align: right;\n",
              "    }\n",
              "</style>\n",
              "<table border=\"1\" class=\"dataframe\">\n",
              "  <thead>\n",
              "    <tr style=\"text-align: right;\">\n",
              "      <th></th>\n",
              "      <th>name</th>\n",
              "      <th>online_order</th>\n",
              "      <th>book_table</th>\n",
              "      <th>rate</th>\n",
              "      <th>votes</th>\n",
              "      <th>location</th>\n",
              "      <th>rest_type</th>\n",
              "      <th>dish_liked</th>\n",
              "      <th>cuisines</th>\n",
              "      <th>approx_cost(for two people)</th>\n",
              "      <th>reviews_list</th>\n",
              "    </tr>\n",
              "  </thead>\n",
              "  <tbody>\n",
              "    <tr>\n",
              "      <th>0</th>\n",
              "      <td>Jalsa</td>\n",
              "      <td>Yes</td>\n",
              "      <td>Yes</td>\n",
              "      <td>4.1</td>\n",
              "      <td>775</td>\n",
              "      <td>Banashankari</td>\n",
              "      <td>Casual Dining</td>\n",
              "      <td>Pasta, Lunch Buffet, Masala Papad, Paneer Laja...</td>\n",
              "      <td>North Indian, Mughlai, Chinese</td>\n",
              "      <td>800</td>\n",
              "      <td>[('Rated 4.0', 'RATED\\n  A beautiful place to ...</td>\n",
              "    </tr>\n",
              "    <tr>\n",
              "      <th>1</th>\n",
              "      <td>Spice Elephant</td>\n",
              "      <td>Yes</td>\n",
              "      <td>No</td>\n",
              "      <td>4.1</td>\n",
              "      <td>787</td>\n",
              "      <td>Banashankari</td>\n",
              "      <td>Casual Dining</td>\n",
              "      <td>Momos, Lunch Buffet, Chocolate Nirvana, Thai G...</td>\n",
              "      <td>Chinese, North Indian, Thai</td>\n",
              "      <td>800</td>\n",
              "      <td>[('Rated 4.0', 'RATED\\n  Had been here for din...</td>\n",
              "    </tr>\n",
              "    <tr>\n",
              "      <th>2</th>\n",
              "      <td>San Churro Cafe</td>\n",
              "      <td>Yes</td>\n",
              "      <td>No</td>\n",
              "      <td>3.8</td>\n",
              "      <td>918</td>\n",
              "      <td>Banashankari</td>\n",
              "      <td>Cafe, Casual Dining</td>\n",
              "      <td>Churros, Cannelloni, Minestrone Soup, Hot Choc...</td>\n",
              "      <td>Cafe, Mexican, Italian</td>\n",
              "      <td>800</td>\n",
              "      <td>[('Rated 3.0', \"RATED\\n  Ambience is not that ...</td>\n",
              "    </tr>\n",
              "    <tr>\n",
              "      <th>3</th>\n",
              "      <td>Addhuri Udupi Bhojana</td>\n",
              "      <td>No</td>\n",
              "      <td>No</td>\n",
              "      <td>3.7</td>\n",
              "      <td>88</td>\n",
              "      <td>Banashankari</td>\n",
              "      <td>Quick Bites</td>\n",
              "      <td>Masala Dosa</td>\n",
              "      <td>South Indian, North Indian</td>\n",
              "      <td>300</td>\n",
              "      <td>[('Rated 4.0', \"RATED\\n  Great food and proper...</td>\n",
              "    </tr>\n",
              "    <tr>\n",
              "      <th>4</th>\n",
              "      <td>Grand Village</td>\n",
              "      <td>No</td>\n",
              "      <td>No</td>\n",
              "      <td>3.8</td>\n",
              "      <td>166</td>\n",
              "      <td>Basavanagudi</td>\n",
              "      <td>Casual Dining</td>\n",
              "      <td>Panipuri, Gol Gappe</td>\n",
              "      <td>North Indian, Rajasthani</td>\n",
              "      <td>600</td>\n",
              "      <td>[('Rated 4.0', 'RATED\\n  Very good restaurant ...</td>\n",
              "    </tr>\n",
              "  </tbody>\n",
              "</table>\n",
              "</div>"
            ],
            "text/plain": [
              "                    name online_order book_table  rate  votes      location  \\\n",
              "0                  Jalsa          Yes        Yes   4.1    775  Banashankari   \n",
              "1         Spice Elephant          Yes         No   4.1    787  Banashankari   \n",
              "2        San Churro Cafe          Yes         No   3.8    918  Banashankari   \n",
              "3  Addhuri Udupi Bhojana           No         No   3.7     88  Banashankari   \n",
              "4          Grand Village           No         No   3.8    166  Basavanagudi   \n",
              "\n",
              "             rest_type                                         dish_liked  \\\n",
              "0        Casual Dining  Pasta, Lunch Buffet, Masala Papad, Paneer Laja...   \n",
              "1        Casual Dining  Momos, Lunch Buffet, Chocolate Nirvana, Thai G...   \n",
              "2  Cafe, Casual Dining  Churros, Cannelloni, Minestrone Soup, Hot Choc...   \n",
              "3          Quick Bites                                        Masala Dosa   \n",
              "4        Casual Dining                                Panipuri, Gol Gappe   \n",
              "\n",
              "                         cuisines approx_cost(for two people)  \\\n",
              "0  North Indian, Mughlai, Chinese                         800   \n",
              "1     Chinese, North Indian, Thai                         800   \n",
              "2          Cafe, Mexican, Italian                         800   \n",
              "3      South Indian, North Indian                         300   \n",
              "4        North Indian, Rajasthani                         600   \n",
              "\n",
              "                                        reviews_list  \n",
              "0  [('Rated 4.0', 'RATED\\n  A beautiful place to ...  \n",
              "1  [('Rated 4.0', 'RATED\\n  Had been here for din...  \n",
              "2  [('Rated 3.0', \"RATED\\n  Ambience is not that ...  \n",
              "3  [('Rated 4.0', \"RATED\\n  Great food and proper...  \n",
              "4  [('Rated 4.0', 'RATED\\n  Very good restaurant ...  "
            ]
          },
          "execution_count": 30,
          "metadata": {},
          "output_type": "execute_result"
        }
      ],
      "source": [
        "data.head(5)"
      ]
    },
    {
      "cell_type": "code",
      "execution_count": 31,
      "id": "1126ad01",
      "metadata": {
        "id": "1126ad01",
        "outputId": "4dbac448-6297-4273-cd7a-37d1f70dca2e"
      },
      "outputs": [
        {
          "data": {
            "text/plain": [
              "array(['Casual Dining', 'Cafe, Casual Dining', 'Quick Bites',\n",
              "       'Casual Dining, Cafe', 'Cafe', 'Quick Bites, Cafe',\n",
              "       'Cafe, Quick Bites', 'Delivery', 'Mess', 'Dessert Parlor',\n",
              "       'Bakery, Dessert Parlor', 'Pub', 'Bakery', 'Takeaway, Delivery',\n",
              "       'Fine Dining', 'Beverage Shop', 'Sweet Shop', 'Bar',\n",
              "       'Dessert Parlor, Sweet Shop', 'Bakery, Quick Bites',\n",
              "       'Sweet Shop, Quick Bites', 'Kiosk', 'Food Truck',\n",
              "       'Quick Bites, Dessert Parlor', 'Beverage Shop, Quick Bites',\n",
              "       'Beverage Shop, Dessert Parlor', 'Takeaway', 'Pub, Casual Dining',\n",
              "       'Casual Dining, Bar', 'Dessert Parlor, Beverage Shop',\n",
              "       'Quick Bites, Bakery', 'Microbrewery, Casual Dining', 'Lounge',\n",
              "       'Bar, Casual Dining', 'Food Court', 'Cafe, Bakery', nan, 'Dhaba',\n",
              "       'Quick Bites, Sweet Shop', 'Microbrewery',\n",
              "       'Food Court, Quick Bites', 'Quick Bites, Beverage Shop',\n",
              "       'Pub, Bar', 'Casual Dining, Pub', 'Lounge, Bar',\n",
              "       'Dessert Parlor, Quick Bites', 'Food Court, Dessert Parlor',\n",
              "       'Casual Dining, Sweet Shop', 'Food Court, Casual Dining',\n",
              "       'Casual Dining, Microbrewery', 'Lounge, Casual Dining',\n",
              "       'Cafe, Food Court', 'Beverage Shop, Cafe', 'Cafe, Dessert Parlor',\n",
              "       'Dessert Parlor, Cafe', 'Dessert Parlor, Bakery',\n",
              "       'Microbrewery, Pub', 'Bakery, Food Court', 'Club',\n",
              "       'Quick Bites, Food Court', 'Bakery, Cafe', 'Pub, Cafe',\n",
              "       'Casual Dining, Irani Cafee', 'Fine Dining, Lounge',\n",
              "       'Bar, Quick Bites', 'Confectionery', 'Pub, Microbrewery',\n",
              "       'Microbrewery, Lounge', 'Fine Dining, Microbrewery',\n",
              "       'Fine Dining, Bar', 'Dessert Parlor, Kiosk', 'Bhojanalya',\n",
              "       'Casual Dining, Quick Bites', 'Cafe, Bar', 'Casual Dining, Lounge',\n",
              "       'Bakery, Beverage Shop', 'Microbrewery, Bar', 'Cafe, Lounge',\n",
              "       'Bar, Pub', 'Lounge, Cafe', 'Club, Casual Dining',\n",
              "       'Quick Bites, Mess', 'Quick Bites, Meat Shop',\n",
              "       'Quick Bites, Kiosk', 'Lounge, Microbrewery',\n",
              "       'Food Court, Beverage Shop', 'Dessert Parlor, Food Court',\n",
              "       'Bar, Lounge'], dtype=object)"
            ]
          },
          "execution_count": 31,
          "metadata": {},
          "output_type": "execute_result"
        }
      ],
      "source": [
        "data.rest_type.unique()"
      ]
    },
    {
      "cell_type": "code",
      "execution_count": 32,
      "id": "ba00926f",
      "metadata": {
        "id": "ba00926f",
        "outputId": "b73a77fe-0553-4f6e-8ac0-6f94652865c1"
      },
      "outputs": [
        {
          "data": {
            "text/plain": [
              "88"
            ]
          },
          "execution_count": 32,
          "metadata": {},
          "output_type": "execute_result"
        }
      ],
      "source": [
        "len(data.rest_type.unique())"
      ]
    },
    {
      "cell_type": "code",
      "execution_count": 33,
      "id": "47c659b9",
      "metadata": {
        "id": "47c659b9",
        "outputId": "f1123b4b-ae05-4508-9886-87cc3e8758c6"
      },
      "outputs": [
        {
          "data": {
            "text/plain": [
              "Quick Bites                   15073\n",
              "Casual Dining                  9923\n",
              "Cafe                           3527\n",
              "Dessert Parlor                 1939\n",
              "Delivery                       1791\n",
              "                              ...  \n",
              "Bakery, Food Court                2\n",
              "Food Court, Beverage Shop         2\n",
              "Dessert Parlor, Food Court        2\n",
              "Dessert Parlor, Kiosk             2\n",
              "Quick Bites, Kiosk                1\n",
              "Name: rest_type, Length: 87, dtype: int64"
            ]
          },
          "execution_count": 33,
          "metadata": {},
          "output_type": "execute_result"
        }
      ],
      "source": [
        "data.rest_type.value_counts()"
      ]
    },
    {
      "cell_type": "code",
      "execution_count": 34,
      "id": "954a3daa",
      "metadata": {
        "id": "954a3daa",
        "outputId": "116ce529-bd19-47d3-d2c4-aede807fc374"
      },
      "outputs": [
        {
          "data": {
            "image/png": "[encoded data removed]",
            "text/plain": [
              "<Figure size 2000x1200 with 1 Axes>"
            ]
          },
          "metadata": {},
          "output_type": "display_data"
        }
      ],
      "source": [
        "plt.figure(figsize=(20,12))\n",
        "rest_typ = data.rest_type.value_counts()[0:15]\n",
        "plt.bar(rest_typ.index,rest_typ)\n",
        "\n",
        "plt.show()\n"
      ]
    },
    {
      "cell_type": "markdown",
      "id": "7769cc82",
      "metadata": {
        "id": "7769cc82"
      },
      "source": [
        "The distribution of restaurant types reveals that Quick Bites are the most prominent category. This dataset specifically focuses on the restaurant scene in Bangalore, indicating that a majority of the city's residents prefer fast food chains and quick bite options."
      ]
    },
    {
      "cell_type": "markdown",
      "id": "f0918168",
      "metadata": {
        "id": "f0918168"
      },
      "source": [
        "## Which restaurant received the most votes based on the number of ratings given?"
      ]
    },
    {
      "cell_type": "code",
      "execution_count": 35,
      "id": "9215dcf9",
      "metadata": {
        "id": "9215dcf9",
        "outputId": "37faf5fe-3a0c-4db9-dff2-6fb2da7dca14"
      },
      "outputs": [
        {
          "data": {
            "text/html": [
              "<div>\n",
              "<style scoped>\n",
              "    .dataframe tbody tr th:only-of-type {\n",
              "        vertical-align: middle;\n",
              "    }\n",
              "\n",
              "    .dataframe tbody tr th {\n",
              "        vertical-align: top;\n",
              "    }\n",
              "\n",
              "    .dataframe thead th {\n",
              "        text-align: right;\n",
              "    }\n",
              "</style>\n",
              "<table border=\"1\" class=\"dataframe\">\n",
              "  <thead>\n",
              "    <tr style=\"text-align: right;\">\n",
              "      <th></th>\n",
              "      <th>name</th>\n",
              "      <th>online_order</th>\n",
              "      <th>book_table</th>\n",
              "      <th>rate</th>\n",
              "      <th>votes</th>\n",
              "      <th>location</th>\n",
              "      <th>rest_type</th>\n",
              "      <th>dish_liked</th>\n",
              "      <th>cuisines</th>\n",
              "      <th>approx_cost(for two people)</th>\n",
              "      <th>reviews_list</th>\n",
              "    </tr>\n",
              "  </thead>\n",
              "  <tbody>\n",
              "    <tr>\n",
              "      <th>0</th>\n",
              "      <td>Jalsa</td>\n",
              "      <td>Yes</td>\n",
              "      <td>Yes</td>\n",
              "      <td>4.1</td>\n",
              "      <td>775</td>\n",
              "      <td>Banashankari</td>\n",
              "      <td>Casual Dining</td>\n",
              "      <td>Pasta, Lunch Buffet, Masala Papad, Paneer Laja...</td>\n",
              "      <td>North Indian, Mughlai, Chinese</td>\n",
              "      <td>800</td>\n",
              "      <td>[('Rated 4.0', 'RATED\\n  A beautiful place to ...</td>\n",
              "    </tr>\n",
              "    <tr>\n",
              "      <th>1</th>\n",
              "      <td>Spice Elephant</td>\n",
              "      <td>Yes</td>\n",
              "      <td>No</td>\n",
              "      <td>4.1</td>\n",
              "      <td>787</td>\n",
              "      <td>Banashankari</td>\n",
              "      <td>Casual Dining</td>\n",
              "      <td>Momos, Lunch Buffet, Chocolate Nirvana, Thai G...</td>\n",
              "      <td>Chinese, North Indian, Thai</td>\n",
              "      <td>800</td>\n",
              "      <td>[('Rated 4.0', 'RATED\\n  Had been here for din...</td>\n",
              "    </tr>\n",
              "    <tr>\n",
              "      <th>2</th>\n",
              "      <td>San Churro Cafe</td>\n",
              "      <td>Yes</td>\n",
              "      <td>No</td>\n",
              "      <td>3.8</td>\n",
              "      <td>918</td>\n",
              "      <td>Banashankari</td>\n",
              "      <td>Cafe, Casual Dining</td>\n",
              "      <td>Churros, Cannelloni, Minestrone Soup, Hot Choc...</td>\n",
              "      <td>Cafe, Mexican, Italian</td>\n",
              "      <td>800</td>\n",
              "      <td>[('Rated 3.0', \"RATED\\n  Ambience is not that ...</td>\n",
              "    </tr>\n",
              "    <tr>\n",
              "      <th>3</th>\n",
              "      <td>Addhuri Udupi Bhojana</td>\n",
              "      <td>No</td>\n",
              "      <td>No</td>\n",
              "      <td>3.7</td>\n",
              "      <td>88</td>\n",
              "      <td>Banashankari</td>\n",
              "      <td>Quick Bites</td>\n",
              "      <td>Masala Dosa</td>\n",
              "      <td>South Indian, North Indian</td>\n",
              "      <td>300</td>\n",
              "      <td>[('Rated 4.0', \"RATED\\n  Great food and proper...</td>\n",
              "    </tr>\n",
              "    <tr>\n",
              "      <th>4</th>\n",
              "      <td>Grand Village</td>\n",
              "      <td>No</td>\n",
              "      <td>No</td>\n",
              "      <td>3.8</td>\n",
              "      <td>166</td>\n",
              "      <td>Basavanagudi</td>\n",
              "      <td>Casual Dining</td>\n",
              "      <td>Panipuri, Gol Gappe</td>\n",
              "      <td>North Indian, Rajasthani</td>\n",
              "      <td>600</td>\n",
              "      <td>[('Rated 4.0', 'RATED\\n  Very good restaurant ...</td>\n",
              "    </tr>\n",
              "  </tbody>\n",
              "</table>\n",
              "</div>"
            ],
            "text/plain": [
              "                    name online_order book_table  rate  votes      location  \\\n",
              "0                  Jalsa          Yes        Yes   4.1    775  Banashankari   \n",
              "1         Spice Elephant          Yes         No   4.1    787  Banashankari   \n",
              "2        San Churro Cafe          Yes         No   3.8    918  Banashankari   \n",
              "3  Addhuri Udupi Bhojana           No         No   3.7     88  Banashankari   \n",
              "4          Grand Village           No         No   3.8    166  Basavanagudi   \n",
              "\n",
              "             rest_type                                         dish_liked  \\\n",
              "0        Casual Dining  Pasta, Lunch Buffet, Masala Papad, Paneer Laja...   \n",
              "1        Casual Dining  Momos, Lunch Buffet, Chocolate Nirvana, Thai G...   \n",
              "2  Cafe, Casual Dining  Churros, Cannelloni, Minestrone Soup, Hot Choc...   \n",
              "3          Quick Bites                                        Masala Dosa   \n",
              "4        Casual Dining                                Panipuri, Gol Gappe   \n",
              "\n",
              "                         cuisines approx_cost(for two people)  \\\n",
              "0  North Indian, Mughlai, Chinese                         800   \n",
              "1     Chinese, North Indian, Thai                         800   \n",
              "2          Cafe, Mexican, Italian                         800   \n",
              "3      South Indian, North Indian                         300   \n",
              "4        North Indian, Rajasthani                         600   \n",
              "\n",
              "                                        reviews_list  \n",
              "0  [('Rated 4.0', 'RATED\\n  A beautiful place to ...  \n",
              "1  [('Rated 4.0', 'RATED\\n  Had been here for din...  \n",
              "2  [('Rated 3.0', \"RATED\\n  Ambience is not that ...  \n",
              "3  [('Rated 4.0', \"RATED\\n  Great food and proper...  \n",
              "4  [('Rated 4.0', 'RATED\\n  Very good restaurant ...  "
            ]
          },
          "execution_count": 35,
          "metadata": {},
          "output_type": "execute_result"
        }
      ],
      "source": [
        "data.head()"
      ]
    },
    {
      "cell_type": "code",
      "execution_count": 36,
      "id": "ac487089",
      "metadata": {
        "id": "ac487089",
        "outputId": "e8c7e372-1c98-412f-9c20-58a2b14b2b6b"
      },
      "outputs": [
        {
          "data": {
            "text/html": [
              "<div>\n",
              "<style scoped>\n",
              "    .dataframe tbody tr th:only-of-type {\n",
              "        vertical-align: middle;\n",
              "    }\n",
              "\n",
              "    .dataframe tbody tr th {\n",
              "        vertical-align: top;\n",
              "    }\n",
              "\n",
              "    .dataframe thead th {\n",
              "        text-align: right;\n",
              "    }\n",
              "</style>\n",
              "<table border=\"1\" class=\"dataframe\">\n",
              "  <thead>\n",
              "    <tr style=\"text-align: right;\">\n",
              "      <th></th>\n",
              "      <th>votes</th>\n",
              "    </tr>\n",
              "    <tr>\n",
              "      <th>name</th>\n",
              "      <th></th>\n",
              "    </tr>\n",
              "  </thead>\n",
              "  <tbody>\n",
              "    <tr>\n",
              "      <th>#FeelTheROLL</th>\n",
              "      <td>7.000000</td>\n",
              "    </tr>\n",
              "    <tr>\n",
              "      <th>#L-81 Cafe</th>\n",
              "      <td>48.000000</td>\n",
              "    </tr>\n",
              "    <tr>\n",
              "      <th>#refuel</th>\n",
              "      <td>37.000000</td>\n",
              "    </tr>\n",
              "    <tr>\n",
              "      <th>1000 B.C</th>\n",
              "      <td>49.000000</td>\n",
              "    </tr>\n",
              "    <tr>\n",
              "      <th>100ÃÂÃÂÃÂÃÂÃÂÃÂÃÂÃÂ°C</th>\n",
              "      <td>41.000000</td>\n",
              "    </tr>\n",
              "    <tr>\n",
              "      <th>...</th>\n",
              "      <td>...</td>\n",
              "    </tr>\n",
              "    <tr>\n",
              "      <th>i-Bar - The Park Bangalore</th>\n",
              "      <td>619.727273</td>\n",
              "    </tr>\n",
              "    <tr>\n",
              "      <th>iFruit Live Ice Creams</th>\n",
              "      <td>10.000000</td>\n",
              "    </tr>\n",
              "    <tr>\n",
              "      <th>iSpice Resto Cafe</th>\n",
              "      <td>30.142857</td>\n",
              "    </tr>\n",
              "    <tr>\n",
              "      <th>nu.tree</th>\n",
              "      <td>206.142857</td>\n",
              "    </tr>\n",
              "    <tr>\n",
              "      <th>re:cess - Hilton Bangalore Embassy GolfLinks</th>\n",
              "      <td>146.000000</td>\n",
              "    </tr>\n",
              "  </tbody>\n",
              "</table>\n",
              "<p>7162 rows × 1 columns</p>\n",
              "</div>"
            ],
            "text/plain": [
              "                                                   votes\n",
              "name                                                    \n",
              "#FeelTheROLL                                    7.000000\n",
              "#L-81 Cafe                                     48.000000\n",
              "#refuel                                        37.000000\n",
              "1000 B.C                                       49.000000\n",
              "100ÃÂÃÂÃÂÃÂÃÂÃÂÃÂÃÂ°C           41.000000\n",
              "...                                                  ...\n",
              "i-Bar - The Park Bangalore                    619.727273\n",
              "iFruit Live Ice Creams                         10.000000\n",
              "iSpice Resto Cafe                              30.142857\n",
              "nu.tree                                       206.142857\n",
              "re:cess - Hilton Bangalore Embassy GolfLinks  146.000000\n",
              "\n",
              "[7162 rows x 1 columns]"
            ]
          },
          "execution_count": 36,
          "metadata": {},
          "output_type": "execute_result"
        }
      ],
      "source": [
        "voting = data.groupby('name')[['votes']].mean()\n",
        "voting"
      ]
    },
    {
      "cell_type": "code",
      "execution_count": 37,
      "id": "4224b1c6",
      "metadata": {
        "id": "4224b1c6",
        "outputId": "735af626-1546-4afd-f2af-d7d76ee98141"
      },
      "outputs": [
        {
          "data": {
            "text/plain": [
              "count     7162.000000\n",
              "mean       201.484245\n",
              "std        607.015608\n",
              "min          0.000000\n",
              "25%         10.400000\n",
              "50%         38.750000\n",
              "75%        146.797414\n",
              "max      16588.500000\n",
              "Name: votes, dtype: float64"
            ]
          },
          "execution_count": 37,
          "metadata": {},
          "output_type": "execute_result"
        }
      ],
      "source": [
        "voting['votes'].describe()"
      ]
    },
    {
      "cell_type": "code",
      "execution_count": 38,
      "id": "231a1ee4",
      "metadata": {
        "id": "231a1ee4"
      },
      "outputs": [],
      "source": [
        "highVotes = voting[voting['votes'] >5000]"
      ]
    },
    {
      "cell_type": "code",
      "execution_count": 39,
      "id": "09a4040a",
      "metadata": {
        "id": "09a4040a",
        "outputId": "d36129c7-d5b3-454d-fba5-53834d4655e6"
      },
      "outputs": [
        {
          "data": {
            "image/png": "[encoded data removed]",
            "text/plain": [
              "<Figure size 2000x1200 with 1 Axes>"
            ]
          },
          "metadata": {},
          "output_type": "display_data"
        }
      ],
      "source": [
        "plt.figure(figsize=(20,12),dpi=100)\n",
        "\n",
        "plt.barh(highVotes.index,highVotes['votes'])\n",
        "\n",
        "plt.show()"
      ]
    },
    {
      "cell_type": "markdown",
      "id": "d5397c8c",
      "metadata": {
        "id": "d5397c8c"
      },
      "source": [
        "This is the barplot for count of ratings given by consumers to a particular resturant"
      ]
    },
    {
      "cell_type": "markdown",
      "id": "f86fb8ae",
      "metadata": {
        "id": "f86fb8ae"
      },
      "source": [
        "### Analysing the highly rated restaurants and worst restaurants based on number of ratings given"
      ]
    },
    {
      "cell_type": "code",
      "execution_count": 40,
      "id": "f4e0d53e",
      "metadata": {
        "id": "f4e0d53e",
        "outputId": "a5990d86-e5d6-462f-9998-20ceba09fe8c"
      },
      "outputs": [
        {
          "data": {
            "text/html": [
              "<div>\n",
              "<style scoped>\n",
              "    .dataframe tbody tr th:only-of-type {\n",
              "        vertical-align: middle;\n",
              "    }\n",
              "\n",
              "    .dataframe tbody tr th {\n",
              "        vertical-align: top;\n",
              "    }\n",
              "\n",
              "    .dataframe thead th {\n",
              "        text-align: right;\n",
              "    }\n",
              "</style>\n",
              "<table border=\"1\" class=\"dataframe\">\n",
              "  <thead>\n",
              "    <tr style=\"text-align: right;\">\n",
              "      <th></th>\n",
              "      <th>name</th>\n",
              "      <th>online_order</th>\n",
              "      <th>book_table</th>\n",
              "      <th>rate</th>\n",
              "      <th>votes</th>\n",
              "      <th>location</th>\n",
              "      <th>rest_type</th>\n",
              "      <th>dish_liked</th>\n",
              "      <th>cuisines</th>\n",
              "      <th>approx_cost(for two people)</th>\n",
              "      <th>reviews_list</th>\n",
              "    </tr>\n",
              "  </thead>\n",
              "  <tbody>\n",
              "    <tr>\n",
              "      <th>0</th>\n",
              "      <td>Jalsa</td>\n",
              "      <td>Yes</td>\n",
              "      <td>Yes</td>\n",
              "      <td>4.1</td>\n",
              "      <td>775</td>\n",
              "      <td>Banashankari</td>\n",
              "      <td>Casual Dining</td>\n",
              "      <td>Pasta, Lunch Buffet, Masala Papad, Paneer Laja...</td>\n",
              "      <td>North Indian, Mughlai, Chinese</td>\n",
              "      <td>800</td>\n",
              "      <td>[('Rated 4.0', 'RATED\\n  A beautiful place to ...</td>\n",
              "    </tr>\n",
              "    <tr>\n",
              "      <th>1</th>\n",
              "      <td>Spice Elephant</td>\n",
              "      <td>Yes</td>\n",
              "      <td>No</td>\n",
              "      <td>4.1</td>\n",
              "      <td>787</td>\n",
              "      <td>Banashankari</td>\n",
              "      <td>Casual Dining</td>\n",
              "      <td>Momos, Lunch Buffet, Chocolate Nirvana, Thai G...</td>\n",
              "      <td>Chinese, North Indian, Thai</td>\n",
              "      <td>800</td>\n",
              "      <td>[('Rated 4.0', 'RATED\\n  Had been here for din...</td>\n",
              "    </tr>\n",
              "    <tr>\n",
              "      <th>2</th>\n",
              "      <td>San Churro Cafe</td>\n",
              "      <td>Yes</td>\n",
              "      <td>No</td>\n",
              "      <td>3.8</td>\n",
              "      <td>918</td>\n",
              "      <td>Banashankari</td>\n",
              "      <td>Cafe, Casual Dining</td>\n",
              "      <td>Churros, Cannelloni, Minestrone Soup, Hot Choc...</td>\n",
              "      <td>Cafe, Mexican, Italian</td>\n",
              "      <td>800</td>\n",
              "      <td>[('Rated 3.0', \"RATED\\n  Ambience is not that ...</td>\n",
              "    </tr>\n",
              "  </tbody>\n",
              "</table>\n",
              "</div>"
            ],
            "text/plain": [
              "              name online_order book_table  rate  votes      location  \\\n",
              "0            Jalsa          Yes        Yes   4.1    775  Banashankari   \n",
              "1   Spice Elephant          Yes         No   4.1    787  Banashankari   \n",
              "2  San Churro Cafe          Yes         No   3.8    918  Banashankari   \n",
              "\n",
              "             rest_type                                         dish_liked  \\\n",
              "0        Casual Dining  Pasta, Lunch Buffet, Masala Papad, Paneer Laja...   \n",
              "1        Casual Dining  Momos, Lunch Buffet, Chocolate Nirvana, Thai G...   \n",
              "2  Cafe, Casual Dining  Churros, Cannelloni, Minestrone Soup, Hot Choc...   \n",
              "\n",
              "                         cuisines approx_cost(for two people)  \\\n",
              "0  North Indian, Mughlai, Chinese                         800   \n",
              "1     Chinese, North Indian, Thai                         800   \n",
              "2          Cafe, Mexican, Italian                         800   \n",
              "\n",
              "                                        reviews_list  \n",
              "0  [('Rated 4.0', 'RATED\\n  A beautiful place to ...  \n",
              "1  [('Rated 4.0', 'RATED\\n  Had been here for din...  \n",
              "2  [('Rated 3.0', \"RATED\\n  Ambience is not that ...  "
            ]
          },
          "execution_count": 40,
          "metadata": {},
          "output_type": "execute_result"
        }
      ],
      "source": [
        "data.head(3)"
      ]
    },
    {
      "cell_type": "code",
      "execution_count": 41,
      "id": "f45c93b7",
      "metadata": {
        "id": "f45c93b7",
        "outputId": "4dadcb54-cdc5-4ab2-90ba-93f2d0ee9408"
      },
      "outputs": [
        {
          "data": {
            "image/png": "[encoded data removed]",
            "text/plain": [
              "<Figure size 640x480 with 1 Axes>"
            ]
          },
          "metadata": {},
          "output_type": "display_data"
        }
      ],
      "source": [
        "sns.distplot(data['votes'])\n",
        "\n",
        "plt.show()"
      ]
    },
    {
      "cell_type": "code",
      "execution_count": 42,
      "id": "5209086c",
      "metadata": {
        "id": "5209086c",
        "outputId": "ccafa263-d7fd-4509-8a72-07b3d0a205b6"
      },
      "outputs": [
        {
          "data": {
            "text/html": [
              "<div>\n",
              "<style scoped>\n",
              "    .dataframe tbody tr th:only-of-type {\n",
              "        vertical-align: middle;\n",
              "    }\n",
              "\n",
              "    .dataframe tbody tr th {\n",
              "        vertical-align: top;\n",
              "    }\n",
              "\n",
              "    .dataframe thead th {\n",
              "        text-align: right;\n",
              "    }\n",
              "</style>\n",
              "<table border=\"1\" class=\"dataframe\">\n",
              "  <thead>\n",
              "    <tr style=\"text-align: right;\">\n",
              "      <th></th>\n",
              "      <th>votes</th>\n",
              "    </tr>\n",
              "    <tr>\n",
              "      <th>name</th>\n",
              "      <th></th>\n",
              "    </tr>\n",
              "  </thead>\n",
              "  <tbody>\n",
              "    <tr>\n",
              "      <th>Byg Brewski Brewing Company</th>\n",
              "      <td>16588.500000</td>\n",
              "    </tr>\n",
              "    <tr>\n",
              "      <th>Toit</th>\n",
              "      <td>14956.000000</td>\n",
              "    </tr>\n",
              "    <tr>\n",
              "      <th>The Black Pearl</th>\n",
              "      <td>9562.333333</td>\n",
              "    </tr>\n",
              "    <tr>\n",
              "      <th>Big Pitcher</th>\n",
              "      <td>9164.500000</td>\n",
              "    </tr>\n",
              "    <tr>\n",
              "      <th>Arbor Brewing Company</th>\n",
              "      <td>8396.545455</td>\n",
              "    </tr>\n",
              "    <tr>\n",
              "      <th>...</th>\n",
              "      <td>...</td>\n",
              "    </tr>\n",
              "    <tr>\n",
              "      <th>NutriFit</th>\n",
              "      <td>0.000000</td>\n",
              "    </tr>\n",
              "    <tr>\n",
              "      <th>Cross Roads Inn</th>\n",
              "      <td>0.000000</td>\n",
              "    </tr>\n",
              "    <tr>\n",
              "      <th>Crown Resto</th>\n",
              "      <td>0.000000</td>\n",
              "    </tr>\n",
              "    <tr>\n",
              "      <th>Nourich</th>\n",
              "      <td>0.000000</td>\n",
              "    </tr>\n",
              "    <tr>\n",
              "      <th>Lazzet Lee</th>\n",
              "      <td>0.000000</td>\n",
              "    </tr>\n",
              "  </tbody>\n",
              "</table>\n",
              "<p>7162 rows × 1 columns</p>\n",
              "</div>"
            ],
            "text/plain": [
              "                                    votes\n",
              "name                                     \n",
              "Byg Brewski Brewing Company  16588.500000\n",
              "Toit                         14956.000000\n",
              "The Black Pearl               9562.333333\n",
              "Big Pitcher                   9164.500000\n",
              "Arbor Brewing Company         8396.545455\n",
              "...                                   ...\n",
              "NutriFit                         0.000000\n",
              "Cross Roads Inn                  0.000000\n",
              "Crown Resto                      0.000000\n",
              "Nourich                          0.000000\n",
              "Lazzet Lee                       0.000000\n",
              "\n",
              "[7162 rows x 1 columns]"
            ]
          },
          "execution_count": 42,
          "metadata": {},
          "output_type": "execute_result"
        }
      ],
      "source": [
        "voting_rating = data.groupby('name')[['votes']].mean().sort_values('votes',ascending=False)\n",
        "voting_rating\n",
        "\n",
        "#count of rating sorting in desc order."
      ]
    },
    {
      "cell_type": "code",
      "execution_count": 43,
      "id": "d5858e13",
      "metadata": {
        "id": "d5858e13"
      },
      "outputs": [],
      "source": [
        "voting_rating['name'] = voting_rating.index"
      ]
    },
    {
      "cell_type": "code",
      "execution_count": 44,
      "id": "7b1fc62f",
      "metadata": {
        "id": "7b1fc62f",
        "outputId": "1fdf50a0-bdd1-4a89-b88d-bf219c8461f6"
      },
      "outputs": [
        {
          "data": {
            "text/html": [
              "<div>\n",
              "<style scoped>\n",
              "    .dataframe tbody tr th:only-of-type {\n",
              "        vertical-align: middle;\n",
              "    }\n",
              "\n",
              "    .dataframe tbody tr th {\n",
              "        vertical-align: top;\n",
              "    }\n",
              "\n",
              "    .dataframe thead th {\n",
              "        text-align: right;\n",
              "    }\n",
              "</style>\n",
              "<table border=\"1\" class=\"dataframe\">\n",
              "  <thead>\n",
              "    <tr style=\"text-align: right;\">\n",
              "      <th></th>\n",
              "      <th>votes</th>\n",
              "      <th>name</th>\n",
              "    </tr>\n",
              "  </thead>\n",
              "  <tbody>\n",
              "    <tr>\n",
              "      <th>0</th>\n",
              "      <td>16588.500000</td>\n",
              "      <td>Byg Brewski Brewing Company</td>\n",
              "    </tr>\n",
              "    <tr>\n",
              "      <th>1</th>\n",
              "      <td>14956.000000</td>\n",
              "      <td>Toit</td>\n",
              "    </tr>\n",
              "    <tr>\n",
              "      <th>2</th>\n",
              "      <td>9562.333333</td>\n",
              "      <td>The Black Pearl</td>\n",
              "    </tr>\n",
              "    <tr>\n",
              "      <th>3</th>\n",
              "      <td>9164.500000</td>\n",
              "      <td>Big Pitcher</td>\n",
              "    </tr>\n",
              "    <tr>\n",
              "      <th>4</th>\n",
              "      <td>8396.545455</td>\n",
              "      <td>Arbor Brewing Company</td>\n",
              "    </tr>\n",
              "  </tbody>\n",
              "</table>\n",
              "</div>"
            ],
            "text/plain": [
              "          votes                         name\n",
              "0  16588.500000  Byg Brewski Brewing Company\n",
              "1  14956.000000                         Toit\n",
              "2   9562.333333              The Black Pearl\n",
              "3   9164.500000                  Big Pitcher\n",
              "4   8396.545455        Arbor Brewing Company"
            ]
          },
          "execution_count": 44,
          "metadata": {},
          "output_type": "execute_result"
        }
      ],
      "source": [
        "voting_rating = voting_rating.reset_index(drop=True)\n",
        "\n",
        "voting_rating.head()"
      ]
    },
    {
      "cell_type": "code",
      "execution_count": 45,
      "id": "d56d92e8",
      "metadata": {
        "id": "d56d92e8",
        "outputId": "8acbc4fd-3357-4fe8-d4df-02ff8e8b6a07"
      },
      "outputs": [
        {
          "data": {
            "text/html": [
              "<div>\n",
              "<style scoped>\n",
              "    .dataframe tbody tr th:only-of-type {\n",
              "        vertical-align: middle;\n",
              "    }\n",
              "\n",
              "    .dataframe tbody tr th {\n",
              "        vertical-align: top;\n",
              "    }\n",
              "\n",
              "    .dataframe thead th {\n",
              "        text-align: right;\n",
              "    }\n",
              "</style>\n",
              "<table border=\"1\" class=\"dataframe\">\n",
              "  <thead>\n",
              "    <tr style=\"text-align: right;\">\n",
              "      <th></th>\n",
              "      <th>votes</th>\n",
              "      <th>name</th>\n",
              "      <th>rate</th>\n",
              "    </tr>\n",
              "  </thead>\n",
              "  <tbody>\n",
              "    <tr>\n",
              "      <th>0</th>\n",
              "      <td>16588.5</td>\n",
              "      <td>Byg Brewski Brewing Company</td>\n",
              "      <td>4.9</td>\n",
              "    </tr>\n",
              "    <tr>\n",
              "      <th>1</th>\n",
              "      <td>16588.5</td>\n",
              "      <td>Byg Brewski Brewing Company</td>\n",
              "      <td>4.9</td>\n",
              "    </tr>\n",
              "    <tr>\n",
              "      <th>2</th>\n",
              "      <td>16588.5</td>\n",
              "      <td>Byg Brewski Brewing Company</td>\n",
              "      <td>4.9</td>\n",
              "    </tr>\n",
              "    <tr>\n",
              "      <th>3</th>\n",
              "      <td>16588.5</td>\n",
              "      <td>Byg Brewski Brewing Company</td>\n",
              "      <td>4.9</td>\n",
              "    </tr>\n",
              "    <tr>\n",
              "      <th>4</th>\n",
              "      <td>16588.5</td>\n",
              "      <td>Byg Brewski Brewing Company</td>\n",
              "      <td>4.9</td>\n",
              "    </tr>\n",
              "    <tr>\n",
              "      <th>...</th>\n",
              "      <td>...</td>\n",
              "      <td>...</td>\n",
              "      <td>...</td>\n",
              "    </tr>\n",
              "    <tr>\n",
              "      <th>43937</th>\n",
              "      <td>0.0</td>\n",
              "      <td>Lazzet Lee</td>\n",
              "      <td>0.0</td>\n",
              "    </tr>\n",
              "    <tr>\n",
              "      <th>43938</th>\n",
              "      <td>0.0</td>\n",
              "      <td>Lazzet Lee</td>\n",
              "      <td>0.0</td>\n",
              "    </tr>\n",
              "    <tr>\n",
              "      <th>43939</th>\n",
              "      <td>0.0</td>\n",
              "      <td>Lazzet Lee</td>\n",
              "      <td>0.0</td>\n",
              "    </tr>\n",
              "    <tr>\n",
              "      <th>43940</th>\n",
              "      <td>0.0</td>\n",
              "      <td>Lazzet Lee</td>\n",
              "      <td>0.0</td>\n",
              "    </tr>\n",
              "    <tr>\n",
              "      <th>43941</th>\n",
              "      <td>0.0</td>\n",
              "      <td>Lazzet Lee</td>\n",
              "      <td>0.0</td>\n",
              "    </tr>\n",
              "  </tbody>\n",
              "</table>\n",
              "<p>43942 rows × 3 columns</p>\n",
              "</div>"
            ],
            "text/plain": [
              "         votes                         name  rate\n",
              "0      16588.5  Byg Brewski Brewing Company   4.9\n",
              "1      16588.5  Byg Brewski Brewing Company   4.9\n",
              "2      16588.5  Byg Brewski Brewing Company   4.9\n",
              "3      16588.5  Byg Brewski Brewing Company   4.9\n",
              "4      16588.5  Byg Brewski Brewing Company   4.9\n",
              "...        ...                          ...   ...\n",
              "43937      0.0                   Lazzet Lee   0.0\n",
              "43938      0.0                   Lazzet Lee   0.0\n",
              "43939      0.0                   Lazzet Lee   0.0\n",
              "43940      0.0                   Lazzet Lee   0.0\n",
              "43941      0.0                   Lazzet Lee   0.0\n",
              "\n",
              "[43942 rows x 3 columns]"
            ]
          },
          "execution_count": 45,
          "metadata": {},
          "output_type": "execute_result"
        }
      ],
      "source": [
        "voting_rating = pd.merge(voting_rating,data[['rate','name']])\n",
        "voting_rating"
      ]
    },
    {
      "cell_type": "code",
      "execution_count": 46,
      "id": "ce1a61cc",
      "metadata": {
        "id": "ce1a61cc",
        "outputId": "29c812ca-9ad6-478c-9f1e-9bf0b8ec8de5"
      },
      "outputs": [
        {
          "data": {
            "text/html": [
              "<div>\n",
              "<style scoped>\n",
              "    .dataframe tbody tr th:only-of-type {\n",
              "        vertical-align: middle;\n",
              "    }\n",
              "\n",
              "    .dataframe tbody tr th {\n",
              "        vertical-align: top;\n",
              "    }\n",
              "\n",
              "    .dataframe thead th {\n",
              "        text-align: right;\n",
              "    }\n",
              "</style>\n",
              "<table border=\"1\" class=\"dataframe\">\n",
              "  <thead>\n",
              "    <tr style=\"text-align: right;\">\n",
              "      <th></th>\n",
              "      <th>votes</th>\n",
              "      <th>name</th>\n",
              "      <th>rate</th>\n",
              "    </tr>\n",
              "  </thead>\n",
              "  <tbody>\n",
              "    <tr>\n",
              "      <th>0</th>\n",
              "      <td>16588.5</td>\n",
              "      <td>Byg Brewski Brewing Company</td>\n",
              "      <td>4.9</td>\n",
              "    </tr>\n",
              "    <tr>\n",
              "      <th>1</th>\n",
              "      <td>16588.5</td>\n",
              "      <td>Byg Brewski Brewing Company</td>\n",
              "      <td>4.9</td>\n",
              "    </tr>\n",
              "    <tr>\n",
              "      <th>2</th>\n",
              "      <td>16588.5</td>\n",
              "      <td>Byg Brewski Brewing Company</td>\n",
              "      <td>4.9</td>\n",
              "    </tr>\n",
              "    <tr>\n",
              "      <th>3</th>\n",
              "      <td>16588.5</td>\n",
              "      <td>Byg Brewski Brewing Company</td>\n",
              "      <td>4.9</td>\n",
              "    </tr>\n",
              "    <tr>\n",
              "      <th>4</th>\n",
              "      <td>16588.5</td>\n",
              "      <td>Byg Brewski Brewing Company</td>\n",
              "      <td>4.9</td>\n",
              "    </tr>\n",
              "  </tbody>\n",
              "</table>\n",
              "</div>"
            ],
            "text/plain": [
              "     votes                         name  rate\n",
              "0  16588.5  Byg Brewski Brewing Company   4.9\n",
              "1  16588.5  Byg Brewski Brewing Company   4.9\n",
              "2  16588.5  Byg Brewski Brewing Company   4.9\n",
              "3  16588.5  Byg Brewski Brewing Company   4.9\n",
              "4  16588.5  Byg Brewski Brewing Company   4.9"
            ]
          },
          "execution_count": 46,
          "metadata": {},
          "output_type": "execute_result"
        }
      ],
      "source": [
        "vote_top = voting_rating[voting_rating['votes'] > 5000]\n",
        "vote_top.head()"
      ]
    },
    {
      "cell_type": "code",
      "execution_count": 47,
      "id": "6ea09004",
      "metadata": {
        "id": "6ea09004",
        "outputId": "0dabd47c-b8dd-4856-8275-d1ab75a19a54"
      },
      "outputs": [
        {
          "data": {
            "text/html": [
              "<div>\n",
              "<style scoped>\n",
              "    .dataframe tbody tr th:only-of-type {\n",
              "        vertical-align: middle;\n",
              "    }\n",
              "\n",
              "    .dataframe tbody tr th {\n",
              "        vertical-align: top;\n",
              "    }\n",
              "\n",
              "    .dataframe thead th {\n",
              "        text-align: right;\n",
              "    }\n",
              "</style>\n",
              "<table border=\"1\" class=\"dataframe\">\n",
              "  <thead>\n",
              "    <tr style=\"text-align: right;\">\n",
              "      <th></th>\n",
              "      <th>rate</th>\n",
              "    </tr>\n",
              "    <tr>\n",
              "      <th>name</th>\n",
              "      <th></th>\n",
              "    </tr>\n",
              "  </thead>\n",
              "  <tbody>\n",
              "    <tr>\n",
              "      <th>Byg Brewski Brewing Company</th>\n",
              "      <td>4.900000</td>\n",
              "    </tr>\n",
              "    <tr>\n",
              "      <th>The Black Pearl</th>\n",
              "      <td>4.727778</td>\n",
              "    </tr>\n",
              "    <tr>\n",
              "      <th>TBC Sky Lounge</th>\n",
              "      <td>4.700000</td>\n",
              "    </tr>\n",
              "    <tr>\n",
              "      <th>Toit</th>\n",
              "      <td>4.700000</td>\n",
              "    </tr>\n",
              "    <tr>\n",
              "      <th>Big Pitcher</th>\n",
              "      <td>4.650000</td>\n",
              "    </tr>\n",
              "    <tr>\n",
              "      <th>Brew and Barbeque - A Microbrewery Pub</th>\n",
              "      <td>4.620000</td>\n",
              "    </tr>\n",
              "    <tr>\n",
              "      <th>The Hole in the Wall Cafe</th>\n",
              "      <td>4.600000</td>\n",
              "    </tr>\n",
              "    <tr>\n",
              "      <th>Windmills Craftworks</th>\n",
              "      <td>4.600000</td>\n",
              "    </tr>\n",
              "    <tr>\n",
              "      <th>Truffles</th>\n",
              "      <td>4.595349</td>\n",
              "    </tr>\n",
              "    <tr>\n",
              "      <th>Fenny's Lounge And Kitchen</th>\n",
              "      <td>4.521429</td>\n",
              "    </tr>\n",
              "    <tr>\n",
              "      <th>Arbor Brewing Company</th>\n",
              "      <td>4.500000</td>\n",
              "    </tr>\n",
              "    <tr>\n",
              "      <th>Hard Rock Cafe</th>\n",
              "      <td>4.500000</td>\n",
              "    </tr>\n",
              "    <tr>\n",
              "      <th>Prost Brew Pub</th>\n",
              "      <td>4.500000</td>\n",
              "    </tr>\n",
              "    <tr>\n",
              "      <th>Church Street Social</th>\n",
              "      <td>4.300000</td>\n",
              "    </tr>\n",
              "    <tr>\n",
              "      <th>Hoot</th>\n",
              "      <td>4.200000</td>\n",
              "    </tr>\n",
              "    <tr>\n",
              "      <th>Vapour Pub &amp; Brewery</th>\n",
              "      <td>4.200000</td>\n",
              "    </tr>\n",
              "  </tbody>\n",
              "</table>\n",
              "</div>"
            ],
            "text/plain": [
              "                                            rate\n",
              "name                                            \n",
              "Byg Brewski Brewing Company             4.900000\n",
              "The Black Pearl                         4.727778\n",
              "TBC Sky Lounge                          4.700000\n",
              "Toit                                    4.700000\n",
              "Big Pitcher                             4.650000\n",
              "Brew and Barbeque - A Microbrewery Pub  4.620000\n",
              "The Hole in the Wall Cafe               4.600000\n",
              "Windmills Craftworks                    4.600000\n",
              "Truffles                                4.595349\n",
              "Fenny's Lounge And Kitchen              4.521429\n",
              "Arbor Brewing Company                   4.500000\n",
              "Hard Rock Cafe                          4.500000\n",
              "Prost Brew Pub                          4.500000\n",
              "Church Street Social                    4.300000\n",
              "Hoot                                    4.200000\n",
              "Vapour Pub & Brewery                    4.200000"
            ]
          },
          "execution_count": 47,
          "metadata": {},
          "output_type": "execute_result"
        }
      ],
      "source": [
        "vote_top = vote_top.groupby('name')[['rate']].mean().sort_values('rate',ascending=False)\n",
        "vote_top"
      ]
    },
    {
      "cell_type": "markdown",
      "id": "1c88e087",
      "metadata": {
        "id": "1c88e087"
      },
      "source": [
        "### Highest Rated based on most number of votes"
      ]
    },
    {
      "cell_type": "code",
      "execution_count": 48,
      "id": "a0f95d93",
      "metadata": {
        "id": "a0f95d93",
        "outputId": "3d521136-e02e-4588-f9fe-26b694207122"
      },
      "outputs": [
        {
          "data": {
            "image/png": "[encoded data removed]",
            "text/plain": [
              "<Figure size 2000x800 with 1 Axes>"
            ]
          },
          "metadata": {},
          "output_type": "display_data"
        }
      ],
      "source": [
        "plt.figure(figsize=(20,8),dpi=100)\n",
        "\n",
        "sns.barplot(x=vote_top['rate'],y=vote_top.index,orient='h')\n",
        "\n",
        "plt.show()"
      ]
    },
    {
      "cell_type": "markdown",
      "id": "cb6f0748",
      "metadata": {
        "id": "cb6f0748"
      },
      "source": [
        "Here we can see that 'Byg Brewski Brewing Company' is the most voted resturant with the average rating of 4.9"
      ]
    },
    {
      "cell_type": "code",
      "execution_count": 49,
      "id": "14634cf4",
      "metadata": {},
      "outputs": [
        {
          "data": {
            "text/html": [
              "<div>\n",
              "<style scoped>\n",
              "    .dataframe tbody tr th:only-of-type {\n",
              "        vertical-align: middle;\n",
              "    }\n",
              "\n",
              "    .dataframe tbody tr th {\n",
              "        vertical-align: top;\n",
              "    }\n",
              "\n",
              "    .dataframe thead th {\n",
              "        text-align: right;\n",
              "    }\n",
              "</style>\n",
              "<table border=\"1\" class=\"dataframe\">\n",
              "  <thead>\n",
              "    <tr style=\"text-align: right;\">\n",
              "      <th></th>\n",
              "      <th>votes</th>\n",
              "      <th>name</th>\n",
              "      <th>rate</th>\n",
              "    </tr>\n",
              "  </thead>\n",
              "  <tbody>\n",
              "    <tr>\n",
              "      <th>0</th>\n",
              "      <td>16588.5</td>\n",
              "      <td>Byg Brewski Brewing Company</td>\n",
              "      <td>4.9</td>\n",
              "    </tr>\n",
              "    <tr>\n",
              "      <th>1</th>\n",
              "      <td>16588.5</td>\n",
              "      <td>Byg Brewski Brewing Company</td>\n",
              "      <td>4.9</td>\n",
              "    </tr>\n",
              "    <tr>\n",
              "      <th>2</th>\n",
              "      <td>16588.5</td>\n",
              "      <td>Byg Brewski Brewing Company</td>\n",
              "      <td>4.9</td>\n",
              "    </tr>\n",
              "    <tr>\n",
              "      <th>3</th>\n",
              "      <td>16588.5</td>\n",
              "      <td>Byg Brewski Brewing Company</td>\n",
              "      <td>4.9</td>\n",
              "    </tr>\n",
              "    <tr>\n",
              "      <th>4</th>\n",
              "      <td>16588.5</td>\n",
              "      <td>Byg Brewski Brewing Company</td>\n",
              "      <td>4.9</td>\n",
              "    </tr>\n",
              "  </tbody>\n",
              "</table>\n",
              "</div>"
            ],
            "text/plain": [
              "     votes                         name  rate\n",
              "0  16588.5  Byg Brewski Brewing Company   4.9\n",
              "1  16588.5  Byg Brewski Brewing Company   4.9\n",
              "2  16588.5  Byg Brewski Brewing Company   4.9\n",
              "3  16588.5  Byg Brewski Brewing Company   4.9\n",
              "4  16588.5  Byg Brewski Brewing Company   4.9"
            ]
          },
          "execution_count": 49,
          "metadata": {},
          "output_type": "execute_result"
        }
      ],
      "source": [
        "voting_rating.head()"
      ]
    },
    {
      "cell_type": "code",
      "execution_count": 50,
      "id": "4a121853",
      "metadata": {
        "id": "4a121853",
        "outputId": "7dea93e8-03ce-4b1e-9260-5123546fb570"
      },
      "outputs": [
        {
          "name": "stdout",
          "output_type": "stream",
          "text": [
            "            votes                 name  rate\n",
            "3725   967.681818  Kritunga Restaurant   2.6\n",
            "3726   967.681818  Kritunga Restaurant   2.9\n",
            "3727   967.681818  Kritunga Restaurant   2.9\n",
            "3742   967.681818  Kritunga Restaurant   2.7\n",
            "3743   967.681818  Kritunga Restaurant   2.7\n",
            "...           ...                  ...   ...\n",
            "42110    4.000000     Special Biriyani   2.9\n",
            "42111    4.000000     Special Biriyani   2.9\n",
            "42198    4.000000   Sandesh Restaurant   2.9\n",
            "42311    2.500000          Kushi Meals   2.8\n",
            "42312    2.500000          Kushi Meals   2.8\n",
            "\n",
            "[2257 rows x 3 columns]\n"
          ]
        }
      ],
      "source": [
        "bad_count = voting_rating[(voting_rating['rate'] < 3) & (voting_rating['rate'] > 0)]\n",
        "print(bad_count)"
      ]
    },
    {
      "cell_type": "code",
      "execution_count": 51,
      "id": "036a773f",
      "metadata": {
        "id": "036a773f",
        "outputId": "70a96482-dead-4434-c9d4-a2f10e36d132"
      },
      "outputs": [
        {
          "data": {
            "text/html": [
              "<div>\n",
              "<style scoped>\n",
              "    .dataframe tbody tr th:only-of-type {\n",
              "        vertical-align: middle;\n",
              "    }\n",
              "\n",
              "    .dataframe tbody tr th {\n",
              "        vertical-align: top;\n",
              "    }\n",
              "\n",
              "    .dataframe thead th {\n",
              "        text-align: right;\n",
              "    }\n",
              "</style>\n",
              "<table border=\"1\" class=\"dataframe\">\n",
              "  <thead>\n",
              "    <tr style=\"text-align: right;\">\n",
              "      <th></th>\n",
              "      <th>rate</th>\n",
              "    </tr>\n",
              "    <tr>\n",
              "      <th>name</th>\n",
              "      <th></th>\n",
              "    </tr>\n",
              "  </thead>\n",
              "  <tbody>\n",
              "    <tr>\n",
              "      <th>Anjappar</th>\n",
              "      <td>2.833333</td>\n",
              "    </tr>\n",
              "    <tr>\n",
              "      <th>FreshMenu</th>\n",
              "      <td>2.800000</td>\n",
              "    </tr>\n",
              "    <tr>\n",
              "      <th>Kabab Magic</th>\n",
              "      <td>2.900000</td>\n",
              "    </tr>\n",
              "    <tr>\n",
              "      <th>Kritunga Restaurant</th>\n",
              "      <td>2.760000</td>\n",
              "    </tr>\n",
              "    <tr>\n",
              "      <th>Lakeview Milkbar</th>\n",
              "      <td>2.900000</td>\n",
              "    </tr>\n",
              "    <tr>\n",
              "      <th>Lazeez</th>\n",
              "      <td>2.600000</td>\n",
              "    </tr>\n",
              "    <tr>\n",
              "      <th>Moriz Restaurant</th>\n",
              "      <td>2.775000</td>\n",
              "    </tr>\n",
              "    <tr>\n",
              "      <th>Savoury Restaurant</th>\n",
              "      <td>2.900000</td>\n",
              "    </tr>\n",
              "    <tr>\n",
              "      <th>Smoke - The Sizzler House</th>\n",
              "      <td>2.800000</td>\n",
              "    </tr>\n",
              "    <tr>\n",
              "      <th>Tandoor Hut</th>\n",
              "      <td>2.200000</td>\n",
              "    </tr>\n",
              "    <tr>\n",
              "      <th>U.P. Dhaba</th>\n",
              "      <td>2.800000</td>\n",
              "    </tr>\n",
              "  </tbody>\n",
              "</table>\n",
              "</div>"
            ],
            "text/plain": [
              "                               rate\n",
              "name                               \n",
              "Anjappar                   2.833333\n",
              "FreshMenu                  2.800000\n",
              "Kabab Magic                2.900000\n",
              "Kritunga Restaurant        2.760000\n",
              "Lakeview Milkbar           2.900000\n",
              "Lazeez                     2.600000\n",
              "Moriz Restaurant           2.775000\n",
              "Savoury Restaurant         2.900000\n",
              "Smoke - The Sizzler House  2.800000\n",
              "Tandoor Hut                2.200000\n",
              "U.P. Dhaba                 2.800000"
            ]
          },
          "execution_count": 51,
          "metadata": {},
          "output_type": "execute_result"
        }
      ],
      "source": [
        "bad_resturants = bad_count[bad_count['votes'] > 500].groupby('name')[['rate']].mean()\n",
        "bad_resturants"
      ]
    },
    {
      "cell_type": "markdown",
      "id": "13b80ffb",
      "metadata": {
        "id": "13b80ffb"
      },
      "source": [
        "### worst restaurants based on highest number of votes given"
      ]
    },
    {
      "cell_type": "code",
      "execution_count": 52,
      "id": "5bab37be",
      "metadata": {
        "id": "5bab37be",
        "outputId": "281c7339-531e-4bc7-dd45-e31f5eb8b5ff"
      },
      "outputs": [
        {
          "data": {
            "image/png": "[encoded data removed]",
            "text/plain": [
              "<Figure size 2000x800 with 1 Axes>"
            ]
          },
          "metadata": {},
          "output_type": "display_data"
        }
      ],
      "source": [
        "plt.figure(figsize=(20,8))\n",
        "# bad_count_sorted = bad_count.sort_values('rate', ascending=False)\n",
        "# sns.barplot(x=bad_count_sorted['rate'],y=bad_count_sorted.index)\n",
        "\n",
        "sns.barplot(x=bad_resturants['rate'],y=bad_resturants.index)\n",
        "\n",
        "plt.show()"
      ]
    },
    {
      "cell_type": "markdown",
      "id": "0ec178bf",
      "metadata": {
        "id": "0ec178bf"
      },
      "source": [
        "These resturants have good votes given by the consumer but less rating..which means there is something wrong with these resturants"
      ]
    },
    {
      "cell_type": "markdown",
      "id": "14c5054a",
      "metadata": {
        "id": "14c5054a"
      },
      "source": [
        "# Identify the top 10 cuisines"
      ]
    },
    {
      "cell_type": "code",
      "execution_count": 53,
      "id": "6db256cb",
      "metadata": {
        "id": "6db256cb",
        "outputId": "562d2db4-b7b3-4ed1-b1c7-64762476a93c"
      },
      "outputs": [
        {
          "data": {
            "text/html": [
              "<div>\n",
              "<style scoped>\n",
              "    .dataframe tbody tr th:only-of-type {\n",
              "        vertical-align: middle;\n",
              "    }\n",
              "\n",
              "    .dataframe tbody tr th {\n",
              "        vertical-align: top;\n",
              "    }\n",
              "\n",
              "    .dataframe thead th {\n",
              "        text-align: right;\n",
              "    }\n",
              "</style>\n",
              "<table border=\"1\" class=\"dataframe\">\n",
              "  <thead>\n",
              "    <tr style=\"text-align: right;\">\n",
              "      <th></th>\n",
              "      <th>name</th>\n",
              "      <th>online_order</th>\n",
              "      <th>book_table</th>\n",
              "      <th>rate</th>\n",
              "      <th>votes</th>\n",
              "      <th>location</th>\n",
              "      <th>rest_type</th>\n",
              "      <th>dish_liked</th>\n",
              "      <th>cuisines</th>\n",
              "      <th>approx_cost(for two people)</th>\n",
              "      <th>reviews_list</th>\n",
              "    </tr>\n",
              "  </thead>\n",
              "  <tbody>\n",
              "    <tr>\n",
              "      <th>0</th>\n",
              "      <td>Jalsa</td>\n",
              "      <td>Yes</td>\n",
              "      <td>Yes</td>\n",
              "      <td>4.1</td>\n",
              "      <td>775</td>\n",
              "      <td>Banashankari</td>\n",
              "      <td>Casual Dining</td>\n",
              "      <td>Pasta, Lunch Buffet, Masala Papad, Paneer Laja...</td>\n",
              "      <td>North Indian, Mughlai, Chinese</td>\n",
              "      <td>800</td>\n",
              "      <td>[('Rated 4.0', 'RATED\\n  A beautiful place to ...</td>\n",
              "    </tr>\n",
              "    <tr>\n",
              "      <th>1</th>\n",
              "      <td>Spice Elephant</td>\n",
              "      <td>Yes</td>\n",
              "      <td>No</td>\n",
              "      <td>4.1</td>\n",
              "      <td>787</td>\n",
              "      <td>Banashankari</td>\n",
              "      <td>Casual Dining</td>\n",
              "      <td>Momos, Lunch Buffet, Chocolate Nirvana, Thai G...</td>\n",
              "      <td>Chinese, North Indian, Thai</td>\n",
              "      <td>800</td>\n",
              "      <td>[('Rated 4.0', 'RATED\\n  Had been here for din...</td>\n",
              "    </tr>\n",
              "    <tr>\n",
              "      <th>2</th>\n",
              "      <td>San Churro Cafe</td>\n",
              "      <td>Yes</td>\n",
              "      <td>No</td>\n",
              "      <td>3.8</td>\n",
              "      <td>918</td>\n",
              "      <td>Banashankari</td>\n",
              "      <td>Cafe, Casual Dining</td>\n",
              "      <td>Churros, Cannelloni, Minestrone Soup, Hot Choc...</td>\n",
              "      <td>Cafe, Mexican, Italian</td>\n",
              "      <td>800</td>\n",
              "      <td>[('Rated 3.0', \"RATED\\n  Ambience is not that ...</td>\n",
              "    </tr>\n",
              "    <tr>\n",
              "      <th>3</th>\n",
              "      <td>Addhuri Udupi Bhojana</td>\n",
              "      <td>No</td>\n",
              "      <td>No</td>\n",
              "      <td>3.7</td>\n",
              "      <td>88</td>\n",
              "      <td>Banashankari</td>\n",
              "      <td>Quick Bites</td>\n",
              "      <td>Masala Dosa</td>\n",
              "      <td>South Indian, North Indian</td>\n",
              "      <td>300</td>\n",
              "      <td>[('Rated 4.0', \"RATED\\n  Great food and proper...</td>\n",
              "    </tr>\n",
              "    <tr>\n",
              "      <th>4</th>\n",
              "      <td>Grand Village</td>\n",
              "      <td>No</td>\n",
              "      <td>No</td>\n",
              "      <td>3.8</td>\n",
              "      <td>166</td>\n",
              "      <td>Basavanagudi</td>\n",
              "      <td>Casual Dining</td>\n",
              "      <td>Panipuri, Gol Gappe</td>\n",
              "      <td>North Indian, Rajasthani</td>\n",
              "      <td>600</td>\n",
              "      <td>[('Rated 4.0', 'RATED\\n  Very good restaurant ...</td>\n",
              "    </tr>\n",
              "  </tbody>\n",
              "</table>\n",
              "</div>"
            ],
            "text/plain": [
              "                    name online_order book_table  rate  votes      location  \\\n",
              "0                  Jalsa          Yes        Yes   4.1    775  Banashankari   \n",
              "1         Spice Elephant          Yes         No   4.1    787  Banashankari   \n",
              "2        San Churro Cafe          Yes         No   3.8    918  Banashankari   \n",
              "3  Addhuri Udupi Bhojana           No         No   3.7     88  Banashankari   \n",
              "4          Grand Village           No         No   3.8    166  Basavanagudi   \n",
              "\n",
              "             rest_type                                         dish_liked  \\\n",
              "0        Casual Dining  Pasta, Lunch Buffet, Masala Papad, Paneer Laja...   \n",
              "1        Casual Dining  Momos, Lunch Buffet, Chocolate Nirvana, Thai G...   \n",
              "2  Cafe, Casual Dining  Churros, Cannelloni, Minestrone Soup, Hot Choc...   \n",
              "3          Quick Bites                                        Masala Dosa   \n",
              "4        Casual Dining                                Panipuri, Gol Gappe   \n",
              "\n",
              "                         cuisines approx_cost(for two people)  \\\n",
              "0  North Indian, Mughlai, Chinese                         800   \n",
              "1     Chinese, North Indian, Thai                         800   \n",
              "2          Cafe, Mexican, Italian                         800   \n",
              "3      South Indian, North Indian                         300   \n",
              "4        North Indian, Rajasthani                         600   \n",
              "\n",
              "                                        reviews_list  \n",
              "0  [('Rated 4.0', 'RATED\\n  A beautiful place to ...  \n",
              "1  [('Rated 4.0', 'RATED\\n  Had been here for din...  \n",
              "2  [('Rated 3.0', \"RATED\\n  Ambience is not that ...  \n",
              "3  [('Rated 4.0', \"RATED\\n  Great food and proper...  \n",
              "4  [('Rated 4.0', 'RATED\\n  Very good restaurant ...  "
            ]
          },
          "execution_count": 53,
          "metadata": {},
          "output_type": "execute_result"
        }
      ],
      "source": [
        "data.head()"
      ]
    },
    {
      "cell_type": "code",
      "execution_count": 54,
      "id": "c9ca9ca4",
      "metadata": {
        "id": "c9ca9ca4",
        "outputId": "f31bcfb4-7c33-4b82-818f-febc7f6e8b9b"
      },
      "outputs": [
        {
          "data": {
            "text/plain": [
              "Quick Bites                   15073\n",
              "Casual Dining                  9923\n",
              "Cafe                           3527\n",
              "Dessert Parlor                 1939\n",
              "Delivery                       1791\n",
              "                              ...  \n",
              "Bakery, Food Court                2\n",
              "Food Court, Beverage Shop         2\n",
              "Dessert Parlor, Food Court        2\n",
              "Dessert Parlor, Kiosk             2\n",
              "Quick Bites, Kiosk                1\n",
              "Name: rest_type, Length: 87, dtype: int64"
            ]
          },
          "execution_count": 54,
          "metadata": {},
          "output_type": "execute_result"
        }
      ],
      "source": [
        "data.rest_type.value_counts()"
      ]
    },
    {
      "cell_type": "code",
      "execution_count": 55,
      "id": "25e36515",
      "metadata": {
        "id": "25e36515",
        "outputId": "711ce717-7b1b-4741-8da7-02ba9d3e2433"
      },
      "outputs": [
        {
          "name": "stdout",
          "output_type": "stream",
          "text": [
            "North Indian                           2294\n",
            "North Indian, Chinese                  2060\n",
            "South Indian                           1320\n",
            "Cafe                                    653\n",
            "Bakery, Desserts                        644\n",
            "Biryani                                 641\n",
            "South Indian, North Indian, Chinese     601\n",
            "Fast Food                               580\n",
            "Desserts                                572\n",
            "Chinese                                 449\n",
            "Name: cuisines, dtype: int64\n"
          ]
        },
        {
          "data": {
            "image/png": "[encoded data removed]",
            "text/plain": [
              "<Figure size 640x480 with 1 Axes>"
            ]
          },
          "metadata": {},
          "output_type": "display_data"
        }
      ],
      "source": [
        "cusin = data.cuisines.value_counts()[0:10]\n",
        "print(cusin)\n",
        "sns.barplot(x=cusin.index,y=cusin)\n",
        "plt.xticks(rotation=80)\n",
        "plt.show()"
      ]
    },
    {
      "cell_type": "markdown",
      "id": "5788aafe",
      "metadata": {
        "id": "5788aafe"
      },
      "source": [
        "This barplot tells about the top 10 cusines preffered by the customers"
      ]
    },
    {
      "cell_type": "markdown",
      "id": "42ea089a",
      "metadata": {
        "id": "42ea089a"
      },
      "source": [
        "### Check the distribution for cost of 2 people"
      ]
    },
    {
      "cell_type": "code",
      "execution_count": 56,
      "id": "b0b33d13",
      "metadata": {
        "id": "b0b33d13",
        "outputId": "bf7dce0a-e6af-41bb-bfd6-1b201dc2b24a"
      },
      "outputs": [
        {
          "data": {
            "text/plain": [
              "252"
            ]
          },
          "execution_count": 56,
          "metadata": {},
          "output_type": "execute_result"
        }
      ],
      "source": [
        "data['approx_cost(for two people)'].isna().sum()"
      ]
    },
    {
      "cell_type": "code",
      "execution_count": 57,
      "id": "03d51b5c",
      "metadata": {
        "id": "03d51b5c"
      },
      "outputs": [],
      "source": [
        "data.dropna(axis=0,subset=['approx_cost(for two people)'],inplace=True)"
      ]
    },
    {
      "cell_type": "code",
      "execution_count": 58,
      "id": "a5097f3f",
      "metadata": {
        "id": "a5097f3f",
        "outputId": "ca1741a4-6768-4f9d-92c6-f0c86c40646f"
      },
      "outputs": [
        {
          "data": {
            "text/plain": [
              "0          800\n",
              "1          800\n",
              "2          800\n",
              "3          300\n",
              "4          600\n",
              "         ...  \n",
              "51709      800\n",
              "51711      800\n",
              "51712    1,500\n",
              "51715    2,500\n",
              "51716    1,500\n",
              "Name: approx_cost(for two people), Length: 43690, dtype: object"
            ]
          },
          "execution_count": 58,
          "metadata": {},
          "output_type": "execute_result"
        }
      ],
      "source": [
        "data['approx_cost(for two people)']"
      ]
    },
    {
      "cell_type": "markdown",
      "id": "a020bf25",
      "metadata": {},
      "source": [
        "Have to convert object type to int/float type so that we can operate on the data. Also replacing comma here"
      ]
    },
    {
      "cell_type": "code",
      "execution_count": 59,
      "id": "524d6429",
      "metadata": {
        "id": "524d6429"
      },
      "outputs": [],
      "source": [
        "data['approx_cost(for two people)'] = data['approx_cost(for two people)'].apply(lambda x: x.replace(',',''))"
      ]
    },
    {
      "cell_type": "code",
      "execution_count": 60,
      "id": "20a548a8",
      "metadata": {
        "id": "20a548a8",
        "outputId": "ee9b1eff-c59e-402a-c440-b68fd7da2c39"
      },
      "outputs": [
        {
          "data": {
            "text/plain": [
              "0         800\n",
              "1         800\n",
              "2         800\n",
              "3         300\n",
              "4         600\n",
              "         ... \n",
              "51709     800\n",
              "51711     800\n",
              "51712    1500\n",
              "51715    2500\n",
              "51716    1500\n",
              "Name: approx_cost(for two people), Length: 43690, dtype: object"
            ]
          },
          "execution_count": 60,
          "metadata": {},
          "output_type": "execute_result"
        }
      ],
      "source": [
        "data['approx_cost(for two people)']"
      ]
    },
    {
      "cell_type": "code",
      "execution_count": 61,
      "id": "2b0a4414",
      "metadata": {
        "id": "2b0a4414"
      },
      "outputs": [],
      "source": [
        "data['approx_cost(for two people)'] = data['approx_cost(for two people)'].astype(int)"
      ]
    },
    {
      "cell_type": "code",
      "execution_count": 62,
      "id": "1f44bbac",
      "metadata": {
        "id": "1f44bbac",
        "outputId": "372b8f3f-424a-4806-a270-0de09d1f07fd"
      },
      "outputs": [
        {
          "data": {
            "text/plain": [
              "0         800\n",
              "1         800\n",
              "2         800\n",
              "3         300\n",
              "4         600\n",
              "         ... \n",
              "51709     800\n",
              "51711     800\n",
              "51712    1500\n",
              "51715    2500\n",
              "51716    1500\n",
              "Name: approx_cost(for two people), Length: 43690, dtype: int32"
            ]
          },
          "execution_count": 62,
          "metadata": {},
          "output_type": "execute_result"
        }
      ],
      "source": [
        "data['approx_cost(for two people)']"
      ]
    },
    {
      "cell_type": "code",
      "execution_count": 63,
      "id": "3e503b2c",
      "metadata": {
        "id": "3e503b2c",
        "outputId": "0d621567-b449-442c-8f43-bac17ad2d67e"
      },
      "outputs": [
        {
          "data": {
            "image/png": "[encoded data removed]",
            "text/plain": [
              "<Figure size 640x480 with 1 Axes>"
            ]
          },
          "metadata": {},
          "output_type": "display_data"
        }
      ],
      "source": [
        "sns.distplot(data['approx_cost(for two people)'])\n",
        "\n",
        "\n",
        "\n",
        "plt.show()"
      ]
    },
    {
      "cell_type": "markdown",
      "id": "a41ee8b6",
      "metadata": {},
      "source": [
        "We can see that most values are lying between 300 to 1000."
      ]
    },
    {
      "cell_type": "code",
      "execution_count": 64,
      "id": "c4251017",
      "metadata": {
        "id": "c4251017",
        "outputId": "4fbffbc4-df90-4c6d-9248-c28e02b68739"
      },
      "outputs": [
        {
          "data": {
            "text/plain": [
              "count    43690.000000\n",
              "mean       594.270222\n",
              "std        458.761551\n",
              "min         40.000000\n",
              "25%        300.000000\n",
              "50%        450.000000\n",
              "75%        700.000000\n",
              "max       6000.000000\n",
              "Name: approx_cost(for two people), dtype: float64"
            ]
          },
          "execution_count": 64,
          "metadata": {},
          "output_type": "execute_result"
        }
      ],
      "source": [
        "data['approx_cost(for two people)'].describe()"
      ]
    },
    {
      "cell_type": "code",
      "execution_count": 65,
      "id": "f7b62fde",
      "metadata": {},
      "outputs": [
        {
          "data": {
            "text/html": [
              "<div>\n",
              "<style scoped>\n",
              "    .dataframe tbody tr th:only-of-type {\n",
              "        vertical-align: middle;\n",
              "    }\n",
              "\n",
              "    .dataframe tbody tr th {\n",
              "        vertical-align: top;\n",
              "    }\n",
              "\n",
              "    .dataframe thead th {\n",
              "        text-align: right;\n",
              "    }\n",
              "</style>\n",
              "<table border=\"1\" class=\"dataframe\">\n",
              "  <thead>\n",
              "    <tr style=\"text-align: right;\">\n",
              "      <th></th>\n",
              "      <th>name</th>\n",
              "      <th>online_order</th>\n",
              "      <th>book_table</th>\n",
              "      <th>rate</th>\n",
              "      <th>votes</th>\n",
              "      <th>location</th>\n",
              "      <th>rest_type</th>\n",
              "      <th>dish_liked</th>\n",
              "      <th>cuisines</th>\n",
              "      <th>approx_cost(for two people)</th>\n",
              "      <th>reviews_list</th>\n",
              "    </tr>\n",
              "  </thead>\n",
              "  <tbody>\n",
              "    <tr>\n",
              "      <th>3310</th>\n",
              "      <td>Beetle Juice Bar - Springs Hotel &amp; Spa</td>\n",
              "      <td>No</td>\n",
              "      <td>Yes</td>\n",
              "      <td>3.7</td>\n",
              "      <td>64</td>\n",
              "      <td>Basavanagudi</td>\n",
              "      <td>Bar</td>\n",
              "      <td>Rooftop Ambience</td>\n",
              "      <td>Finger Food</td>\n",
              "      <td>2200</td>\n",
              "      <td>[]</td>\n",
              "    </tr>\n",
              "    <tr>\n",
              "      <th>3736</th>\n",
              "      <td>Beetle Juice Bar - Springs Hotel &amp; Spa</td>\n",
              "      <td>No</td>\n",
              "      <td>Yes</td>\n",
              "      <td>3.7</td>\n",
              "      <td>64</td>\n",
              "      <td>Basavanagudi</td>\n",
              "      <td>Bar</td>\n",
              "      <td>Rooftop Ambience</td>\n",
              "      <td>Finger Food</td>\n",
              "      <td>2200</td>\n",
              "      <td>[]</td>\n",
              "    </tr>\n",
              "    <tr>\n",
              "      <th>4820</th>\n",
              "      <td>The Square - Novotel</td>\n",
              "      <td>No</td>\n",
              "      <td>Yes</td>\n",
              "      <td>4.3</td>\n",
              "      <td>760</td>\n",
              "      <td>Marathahalli</td>\n",
              "      <td>Fine Dining</td>\n",
              "      <td>Breakfast Buffet, Cocktails, Sunday Brunch, No...</td>\n",
              "      <td>Continental, North Indian, Japanese, Italian</td>\n",
              "      <td>2500</td>\n",
              "      <td>[('Rated 5.0', 'RATED\\n  Christmas always used...</td>\n",
              "    </tr>\n",
              "    <tr>\n",
              "      <th>4861</th>\n",
              "      <td>Chez Nous - Novotel</td>\n",
              "      <td>No</td>\n",
              "      <td>Yes</td>\n",
              "      <td>3.9</td>\n",
              "      <td>125</td>\n",
              "      <td>Marathahalli</td>\n",
              "      <td>Lounge</td>\n",
              "      <td>Coffee, Cocktails, Tiramisu, Cappuccino, Hot C...</td>\n",
              "      <td>European, French, North Indian</td>\n",
              "      <td>2500</td>\n",
              "      <td>[('Rated 5.0', 'RATED\\n  I will visit there la...</td>\n",
              "    </tr>\n",
              "    <tr>\n",
              "      <th>4953</th>\n",
              "      <td>Chez Nous - Novotel</td>\n",
              "      <td>No</td>\n",
              "      <td>Yes</td>\n",
              "      <td>3.9</td>\n",
              "      <td>125</td>\n",
              "      <td>Marathahalli</td>\n",
              "      <td>Lounge</td>\n",
              "      <td>Coffee, Cocktails, Tiramisu, Cappuccino, Hot C...</td>\n",
              "      <td>European, French, North Indian</td>\n",
              "      <td>2500</td>\n",
              "      <td>[('Rated 5.0', 'RATED\\n  I will visit there la...</td>\n",
              "    </tr>\n",
              "    <tr>\n",
              "      <th>...</th>\n",
              "      <td>...</td>\n",
              "      <td>...</td>\n",
              "      <td>...</td>\n",
              "      <td>...</td>\n",
              "      <td>...</td>\n",
              "      <td>...</td>\n",
              "      <td>...</td>\n",
              "      <td>...</td>\n",
              "      <td>...</td>\n",
              "      <td>...</td>\n",
              "      <td>...</td>\n",
              "    </tr>\n",
              "    <tr>\n",
              "      <th>51666</th>\n",
              "      <td>Bling - The Zuri</td>\n",
              "      <td>No</td>\n",
              "      <td>No</td>\n",
              "      <td>3.7</td>\n",
              "      <td>228</td>\n",
              "      <td>Whitefield</td>\n",
              "      <td>Lounge</td>\n",
              "      <td>Martini, Cocktails, Paneer Tikka</td>\n",
              "      <td>Continental, North Indian</td>\n",
              "      <td>2100</td>\n",
              "      <td>[('Rated 3.0', 'RATED\\n  Happen to visit there...</td>\n",
              "    </tr>\n",
              "    <tr>\n",
              "      <th>51681</th>\n",
              "      <td>Chime - Sheraton Grand Bengaluru Whitefield Ho...</td>\n",
              "      <td>No</td>\n",
              "      <td>Yes</td>\n",
              "      <td>4.3</td>\n",
              "      <td>236</td>\n",
              "      <td>ITPL Main Road, Whitefield</td>\n",
              "      <td>Bar</td>\n",
              "      <td>Cocktails, Pizza, Buttermilk</td>\n",
              "      <td>Finger Food</td>\n",
              "      <td>2500</td>\n",
              "      <td>[('Rated 4.0', 'RATED\\n  Nice and friendly pla...</td>\n",
              "    </tr>\n",
              "    <tr>\n",
              "      <th>51685</th>\n",
              "      <td>Biergarten</td>\n",
              "      <td>No</td>\n",
              "      <td>Yes</td>\n",
              "      <td>4.7</td>\n",
              "      <td>7064</td>\n",
              "      <td>Whitefield</td>\n",
              "      <td>Microbrewery, Pub</td>\n",
              "      <td>Wheat Beer, Risotto, Craft Beer, Caesar Salad,...</td>\n",
              "      <td>Continental, European, BBQ, Chinese, Asian</td>\n",
              "      <td>2400</td>\n",
              "      <td>[('Rated 3.0', 'RATED\\n  We had been here on a...</td>\n",
              "    </tr>\n",
              "    <tr>\n",
              "      <th>51686</th>\n",
              "      <td>Windmills Craftworks</td>\n",
              "      <td>No</td>\n",
              "      <td>No</td>\n",
              "      <td>4.6</td>\n",
              "      <td>5954</td>\n",
              "      <td>Whitefield</td>\n",
              "      <td>Microbrewery, Pub</td>\n",
              "      <td>Keema Pav, Cocktails, Craft Beer, Pork Chops, ...</td>\n",
              "      <td>American, North Indian, Salad</td>\n",
              "      <td>2500</td>\n",
              "      <td>[('Rated 5.0', \"RATED\\n  A review for Windmill...</td>\n",
              "    </tr>\n",
              "    <tr>\n",
              "      <th>51715</th>\n",
              "      <td>Chime - Sheraton Grand Bengaluru Whitefield Ho...</td>\n",
              "      <td>No</td>\n",
              "      <td>Yes</td>\n",
              "      <td>4.3</td>\n",
              "      <td>236</td>\n",
              "      <td>ITPL Main Road, Whitefield</td>\n",
              "      <td>Bar</td>\n",
              "      <td>Cocktails, Pizza, Buttermilk</td>\n",
              "      <td>Finger Food</td>\n",
              "      <td>2500</td>\n",
              "      <td>[('Rated 4.0', 'RATED\\n  Nice and friendly pla...</td>\n",
              "    </tr>\n",
              "  </tbody>\n",
              "</table>\n",
              "<p>624 rows × 11 columns</p>\n",
              "</div>"
            ],
            "text/plain": [
              "                                                    name online_order  \\\n",
              "3310              Beetle Juice Bar - Springs Hotel & Spa           No   \n",
              "3736              Beetle Juice Bar - Springs Hotel & Spa           No   \n",
              "4820                                The Square - Novotel           No   \n",
              "4861                                 Chez Nous - Novotel           No   \n",
              "4953                                 Chez Nous - Novotel           No   \n",
              "...                                                  ...          ...   \n",
              "51666                                   Bling - The Zuri           No   \n",
              "51681  Chime - Sheraton Grand Bengaluru Whitefield Ho...           No   \n",
              "51685                                         Biergarten           No   \n",
              "51686                               Windmills Craftworks           No   \n",
              "51715  Chime - Sheraton Grand Bengaluru Whitefield Ho...           No   \n",
              "\n",
              "      book_table  rate  votes                    location          rest_type  \\\n",
              "3310         Yes   3.7     64                Basavanagudi                Bar   \n",
              "3736         Yes   3.7     64                Basavanagudi                Bar   \n",
              "4820         Yes   4.3    760                Marathahalli        Fine Dining   \n",
              "4861         Yes   3.9    125                Marathahalli             Lounge   \n",
              "4953         Yes   3.9    125                Marathahalli             Lounge   \n",
              "...          ...   ...    ...                         ...                ...   \n",
              "51666         No   3.7    228                  Whitefield             Lounge   \n",
              "51681        Yes   4.3    236  ITPL Main Road, Whitefield                Bar   \n",
              "51685        Yes   4.7   7064                  Whitefield  Microbrewery, Pub   \n",
              "51686         No   4.6   5954                  Whitefield  Microbrewery, Pub   \n",
              "51715        Yes   4.3    236  ITPL Main Road, Whitefield                Bar   \n",
              "\n",
              "                                              dish_liked  \\\n",
              "3310                                    Rooftop Ambience   \n",
              "3736                                    Rooftop Ambience   \n",
              "4820   Breakfast Buffet, Cocktails, Sunday Brunch, No...   \n",
              "4861   Coffee, Cocktails, Tiramisu, Cappuccino, Hot C...   \n",
              "4953   Coffee, Cocktails, Tiramisu, Cappuccino, Hot C...   \n",
              "...                                                  ...   \n",
              "51666                   Martini, Cocktails, Paneer Tikka   \n",
              "51681                       Cocktails, Pizza, Buttermilk   \n",
              "51685  Wheat Beer, Risotto, Craft Beer, Caesar Salad,...   \n",
              "51686  Keema Pav, Cocktails, Craft Beer, Pork Chops, ...   \n",
              "51715                       Cocktails, Pizza, Buttermilk   \n",
              "\n",
              "                                           cuisines  \\\n",
              "3310                                    Finger Food   \n",
              "3736                                    Finger Food   \n",
              "4820   Continental, North Indian, Japanese, Italian   \n",
              "4861                 European, French, North Indian   \n",
              "4953                 European, French, North Indian   \n",
              "...                                             ...   \n",
              "51666                     Continental, North Indian   \n",
              "51681                                   Finger Food   \n",
              "51685    Continental, European, BBQ, Chinese, Asian   \n",
              "51686                 American, North Indian, Salad   \n",
              "51715                                   Finger Food   \n",
              "\n",
              "       approx_cost(for two people)  \\\n",
              "3310                          2200   \n",
              "3736                          2200   \n",
              "4820                          2500   \n",
              "4861                          2500   \n",
              "4953                          2500   \n",
              "...                            ...   \n",
              "51666                         2100   \n",
              "51681                         2500   \n",
              "51685                         2400   \n",
              "51686                         2500   \n",
              "51715                         2500   \n",
              "\n",
              "                                            reviews_list  \n",
              "3310                                                  []  \n",
              "3736                                                  []  \n",
              "4820   [('Rated 5.0', 'RATED\\n  Christmas always used...  \n",
              "4861   [('Rated 5.0', 'RATED\\n  I will visit there la...  \n",
              "4953   [('Rated 5.0', 'RATED\\n  I will visit there la...  \n",
              "...                                                  ...  \n",
              "51666  [('Rated 3.0', 'RATED\\n  Happen to visit there...  \n",
              "51681  [('Rated 4.0', 'RATED\\n  Nice and friendly pla...  \n",
              "51685  [('Rated 3.0', 'RATED\\n  We had been here on a...  \n",
              "51686  [('Rated 5.0', \"RATED\\n  A review for Windmill...  \n",
              "51715  [('Rated 4.0', 'RATED\\n  Nice and friendly pla...  \n",
              "\n",
              "[624 rows x 11 columns]"
            ]
          },
          "execution_count": 65,
          "metadata": {},
          "output_type": "execute_result"
        }
      ],
      "source": [
        "data[data['approx_cost(for two people)'] > 2000]"
      ]
    },
    {
      "cell_type": "code",
      "execution_count": 66,
      "id": "fbc359b5",
      "metadata": {
        "id": "fbc359b5"
      },
      "outputs": [
        {
          "name": "stdout",
          "output_type": "stream",
          "text": [
            "624\n"
          ]
        }
      ],
      "source": [
        "count_high_cost = len(data[data['approx_cost(for two people)'] > 2000])\n",
        "print(count_high_cost)"
      ]
    },
    {
      "cell_type": "markdown",
      "id": "4f7a470e",
      "metadata": {},
      "source": [
        " Number of restaurants that have cost of 2 people above 2000 are 624\n"
      ]
    },
    {
      "cell_type": "markdown",
      "id": "d87619b5",
      "metadata": {
        "id": "d87619b5"
      },
      "source": [
        "Distibution of cost for 2 people in resturants most of the resurants costs below Rs.1000"
      ]
    },
    {
      "cell_type": "markdown",
      "id": "e74ea5cc",
      "metadata": {
        "id": "e74ea5cc"
      },
      "source": [
        "# Conclusions:"
      ]
    },
    {
      "cell_type": "markdown",
      "id": "5ac5506f",
      "metadata": {
        "id": "5ac5506f"
      },
      "source": [
        "1. The top-rated restaurants were Asia Kitchen By Mainland China, Spa Cuisine, Byg Brewski Brewing Company, and Punjab Grill.\n",
        "\n",
        "2. Cafe Coffee Day, Onesta, Empire Restaurant, Just Bake, and Kanti sweets were among the leading restaurant chains.\n",
        "\n",
        "3. Approximately 64.4% of restaurants accept online orders, while the remaining 35.6% do not provide this service.\n",
        "\n",
        "4. Byg Brewski Brewing Company and The Black Pearl received the highest number of votes, making them the best-rated restaurants.\n",
        "\n",
        "5. The worst-rated restaurants, based on the votes, were Lazeez and Tandoor Hut.\n",
        "\n",
        "6. The people of Bangalore showed a strong preference for North Indian and Chinese cuisines.\n",
        "\n",
        "7. The cost for two people in most restaurants ranged from 500 to 1000 Rupees.\n",
        "\n",
        "8. Number of restaurants that can be termed costly, i.e. above 2k per person are 686"
      ]
    }
  ],
  "metadata": {
    "colab": {
      "provenance": []
    },
    "kernelspec": {
      "display_name": "Python 3",
      "name": "python3"
    },
    "language_info": {
      "codemirror_mode": {
        "name": "ipython",
        "version": 3
      },
      "file_extension": ".py",
      "mimetype": "text/x-python",
      "name": "python",
      "nbconvert_exporter": "python",
      "pygments_lexer": "ipython3",
      "version": "3.10.7"
    }
  },
  "nbformat": 4,
  "nbformat_minor": 5
}
